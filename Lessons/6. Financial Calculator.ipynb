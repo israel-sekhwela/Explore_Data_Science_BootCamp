{
 "cells": [
  {
   "cell_type": "markdown",
   "metadata": {
    "colab_type": "text",
    "deletable": true,
    "editable": true,
    "id": "Hw-SNKKd6N9i"
   },
   "source": [
    "# Financial Calculator"
   ]
  },
  {
   "cell_type": "markdown",
   "metadata": {
    "colab_type": "text",
    "deletable": true,
    "editable": true,
    "id": "euFddeQH6T1K"
   },
   "source": [
    "Once you start your working life, there are many financial decisions to make, such as:\n",
    "- Can I afford this loan?\n",
    "- How much do I need to save now to afford something in the future?\n",
    "\n"
   ]
  },
  {
   "cell_type": "markdown",
   "metadata": {
    "colab_type": "text",
    "deletable": true,
    "editable": true,
    "id": "ur-kRphbCxbk"
   },
   "source": [
    "Today we'll be building a calculator to help answer these questions."
   ]
  },
  {
   "cell_type": "markdown",
   "metadata": {
    "colab_type": "text",
    "deletable": true,
    "editable": true,
    "id": "esUT0jT2_Yxc"
   },
   "source": [
    "## Interest\n",
    "\n",
    "This is a recap on how interest works.  \n",
    "\n",
    "*If you're familiar with how interest works, feel free to skip ahead to the exercises.*\n",
    "\n",
    "So let's say your uncle wants to lend R1000 from you and promises to pay you back in exactly one year's time.  \n",
    "\n",
    "You actually wanted to use the money to buy some new clothes, but you agree to lend him the money, if he pays you back R1200 (R200 extra). \n",
    "\n",
    "This R200 extra is called interest.\n",
    "\n",
    "<br>\n",
    "\n",
    "In the financial world, we often denote interest by some percentage of the loan amount, paid per year. In the example above, you charged your uncle 20% interest per year on the R1000 loan (since R200 is equal to 20% of R1000, and he pays it back in a year's time).\n",
    "\n",
    "### Compound Interest\n",
    "\n",
    "It's now one year later, and the day has arrived for your uncle to pay you back the R1200 he promised.  He has the money to pay you back, and gives it to you, but he explains that he would really like to buy a new watch.\n",
    "\n",
    "With the money in your hand, you make him a deal.  He can borrow the R1200 from you if he pays you back in 1 year's time with 20% interest.\n",
    "\n",
    "Let's calculate what the interest will be:"
   ]
  },
  {
   "cell_type": "code",
   "execution_count": 22,
   "metadata": {
    "colab": {
     "autoexec": {
      "startup": false,
      "wait_interval": 0
     },
     "base_uri": "https://localhost:8080/",
     "height": 34,
     "output_extras": [
      {
       "item_id": 1
      }
     ]
    },
    "colab_type": "code",
    "collapsed": false,
    "deletable": true,
    "editable": true,
    "executionInfo": {
     "elapsed": 1075,
     "status": "ok",
     "timestamp": 1521123804628,
     "user": {
      "displayName": "Rayno Mostert",
      "photoUrl": "https://lh3.googleusercontent.com/a/default-user=s128",
      "userId": "107056986412592388577"
     },
     "user_tz": -120
    },
    "id": "t2a4-XtFCt3P",
    "outputId": "aebb0e5a-ecdc-4b85-b991-91ca1bf3a7d5"
   },
   "outputs": [
    {
     "data": {
      "text/plain": [
       "240.0"
      ]
     },
     "execution_count": 22,
     "metadata": {
      "tags": []
     },
     "output_type": "execute_result"
    }
   ],
   "source": [
    "1200 * 0.2"
   ]
  },
  {
   "cell_type": "markdown",
   "metadata": {
    "colab_type": "text",
    "deletable": true,
    "editable": true,
    "id": "22kQ5TgAC1Lx"
   },
   "source": [
    "So your uncle has to pay you R1200 + R240 interest in one year's time:"
   ]
  },
  {
   "cell_type": "code",
   "execution_count": 23,
   "metadata": {
    "colab": {
     "autoexec": {
      "startup": false,
      "wait_interval": 0
     },
     "base_uri": "https://localhost:8080/",
     "height": 34,
     "output_extras": [
      {
       "item_id": 1
      }
     ]
    },
    "colab_type": "code",
    "collapsed": false,
    "deletable": true,
    "editable": true,
    "executionInfo": {
     "elapsed": 1217,
     "status": "ok",
     "timestamp": 1521123834613,
     "user": {
      "displayName": "Rayno Mostert",
      "photoUrl": "https://lh3.googleusercontent.com/a/default-user=s128",
      "userId": "107056986412592388577"
     },
     "user_tz": -120
    },
    "id": "BnqqNaKHC6Ta",
    "outputId": "80c47ed8-f1b5-40a0-d22a-403b2b7fc36e"
   },
   "outputs": [
    {
     "data": {
      "text/plain": [
       "1440"
      ]
     },
     "execution_count": 23,
     "metadata": {
      "tags": []
     },
     "output_type": "execute_result"
    }
   ],
   "source": [
    "1200 + 240"
   ]
  },
  {
   "cell_type": "markdown",
   "metadata": {
    "colab_type": "text",
    "deletable": true,
    "editable": true,
    "id": "hF_rP8-7C8bj"
   },
   "source": [
    "Your uncle agrees, and he's off to purchase his snazzy new watch."
   ]
  },
  {
   "cell_type": "markdown",
   "metadata": {
    "colab_type": "text",
    "deletable": true,
    "editable": true,
    "id": "JgnmtQA_DBa7"
   },
   "source": [
    "Notice how the 20% interest this time is R240 and not R200 like it was originally.\n",
    "\n",
    "That's because - this time - you didn't only lend your uncle R1000, you lent him R1000, plus the R200 interest he already owes you.\n",
    "\n",
    "So, for the next year, he's paying 20% interest on the original R1000 PLUS ANOTHER 20% interest on the R200 interest he already owes you:"
   ]
  },
  {
   "cell_type": "code",
   "execution_count": 24,
   "metadata": {
    "colab": {
     "autoexec": {
      "startup": false,
      "wait_interval": 0
     },
     "base_uri": "https://localhost:8080/",
     "height": 34,
     "output_extras": [
      {
       "item_id": 1
      }
     ]
    },
    "colab_type": "code",
    "collapsed": false,
    "deletable": true,
    "editable": true,
    "executionInfo": {
     "elapsed": 1137,
     "status": "ok",
     "timestamp": 1521124038991,
     "user": {
      "displayName": "Rayno Mostert",
      "photoUrl": "https://lh3.googleusercontent.com/a/default-user=s128",
      "userId": "107056986412592388577"
     },
     "user_tz": -120
    },
    "id": "up5lHdsFDiZj",
    "outputId": "9cb6c9b4-8cfc-479c-8ca6-745f01740206"
   },
   "outputs": [
    {
     "data": {
      "text/plain": [
       "240.0"
      ]
     },
     "execution_count": 24,
     "metadata": {
      "tags": []
     },
     "output_type": "execute_result"
    }
   ],
   "source": [
    "(1000 * 0.2) + (200 * 0.2)"
   ]
  },
  {
   "cell_type": "markdown",
   "metadata": {
    "colab_type": "text",
    "deletable": true,
    "editable": true,
    "id": "VSJFaTtvDhYY"
   },
   "source": [
    "This situation, where you're earning **interest on interest** is called **compound interest**.\n",
    "\n",
    "And even Albert Einstein was blown away by this phenomenon:"
   ]
  },
  {
   "cell_type": "markdown",
   "metadata": {
    "colab_type": "text",
    "deletable": true,
    "editable": true,
    "id": "Jrp7jg7LEVKL"
   },
   "source": [
    "![Albert Einstein](http://www.azquotes.com/picture-quotes/quote-compound-interest-is-the-eighth-wonder-of-the-world-he-who-understands-it-earns-it-he-albert-einstein-36-43-19.jpg)  "
   ]
  },
  {
   "cell_type": "markdown",
   "metadata": {
    "colab_type": "text",
    "deletable": true,
    "editable": true,
    "id": "uLmpvR6jC7tx"
   },
   "source": [
    "### Example"
   ]
  },
  {
   "cell_type": "markdown",
   "metadata": {
    "colab_type": "text",
    "deletable": true,
    "editable": true,
    "id": "fbmNmvhwDqwx"
   },
   "source": [
    "You just turned 16 and you want to buy a new pair of shoes to wear at your party. The shoes cost R1000 (we'll call it the Present Value, $PV$). \n",
    "You're broke right now, but you know that in 5 years' time - when you turn 21 - you will get a lot of money from your relatives for your 21st birthday.\n",
    "\n",
    "FedBank is willing to lend you R1000, at 20% interest per year.\n",
    "\n",
    "Assuming that you take the loan - how much will you have to pay back in 5 years' time? (We'll call this amount the Future Value, $FV$)\n",
    "\n",
    "***\n",
    "Loan summary:\n",
    "\n",
    "*   $PV$:     **R1000**\n",
    "*   $n$:      **5 years**\n",
    "*   $i$:      **20% interest** per annum, compounded annually\n",
    "\n",
    "***\n",
    "\n",
    "In Python we'd calculate this value as follows:"
   ]
  },
  {
   "cell_type": "code",
   "execution_count": 0,
   "metadata": {
    "colab": {
     "autoexec": {
      "startup": false,
      "wait_interval": 0
     }
    },
    "colab_type": "code",
    "collapsed": true,
    "deletable": true,
    "editable": true,
    "id": "5IqsH7t3C7EY"
   },
   "outputs": [],
   "source": [
    "# Present Value of the Loan amount:\n",
    "PV = 1000\n",
    "\n",
    "# Interest rate, i:\n",
    "i = 20 / 100"
   ]
  },
  {
   "cell_type": "code",
   "execution_count": 0,
   "metadata": {
    "colab": {
     "autoexec": {
      "startup": false,
      "wait_interval": 0
     }
    },
    "colab_type": "code",
    "collapsed": true,
    "deletable": true,
    "editable": true,
    "id": "danVdu4gFevN"
   },
   "outputs": [],
   "source": [
    "# After one year, you owe FedBank:\n",
    "interest = PV * 20 / 100\n",
    "\n",
    "FV_1 = PV + interest"
   ]
  },
  {
   "cell_type": "code",
   "execution_count": 37,
   "metadata": {
    "colab": {
     "autoexec": {
      "startup": false,
      "wait_interval": 0
     },
     "base_uri": "https://localhost:8080/",
     "height": 34,
     "output_extras": [
      {
       "item_id": 1
      }
     ]
    },
    "colab_type": "code",
    "collapsed": false,
    "deletable": true,
    "editable": true,
    "executionInfo": {
     "elapsed": 1371,
     "status": "ok",
     "timestamp": 1521125167123,
     "user": {
      "displayName": "Rayno Mostert",
      "photoUrl": "https://lh3.googleusercontent.com/a/default-user=s128",
      "userId": "107056986412592388577"
     },
     "user_tz": -120
    },
    "id": "p9xPYa1mHHoF",
    "outputId": "95924a99-c7f6-4a17-cf05-e5253ebdda22"
   },
   "outputs": [
    {
     "data": {
      "text/plain": [
       "1200.0"
      ]
     },
     "execution_count": 37,
     "metadata": {
      "tags": []
     },
     "output_type": "execute_result"
    }
   ],
   "source": [
    "FV_1"
   ]
  },
  {
   "cell_type": "markdown",
   "metadata": {
    "colab_type": "text",
    "deletable": true,
    "editable": true,
    "id": "oCOUu8NtH2d0"
   },
   "source": [
    "So, if had only borrowed the money for a year, you would've needed to pay an extra R200 to FedBank after 1 year.\n",
    "\n",
    "But you're borrowing for 5 years:"
   ]
  },
  {
   "cell_type": "code",
   "execution_count": 0,
   "metadata": {
    "colab": {
     "autoexec": {
      "startup": false,
      "wait_interval": 0
     }
    },
    "colab_type": "code",
    "collapsed": true,
    "deletable": true,
    "editable": true,
    "id": "Qxc8ozDnGxje"
   },
   "outputs": [],
   "source": [
    "# For year 2:\n",
    "interest = FV_1 * 20 / 100\n",
    "FV_2 = FV_1 + interest\n",
    "\n",
    "# For year 3:\n",
    "interest = FV_2 * 20 / 100\n",
    "FV_3 = FV_2 + interest\n",
    "\n",
    "# For year 4:\n",
    "interest = FV_3 * 20 / 100\n",
    "FV_4 = FV_3 + interest\n",
    "\n",
    "# For year 5:\n",
    "interest = FV_4 * 20 / 100\n",
    "FV_5 = FV_4 + interest"
   ]
  },
  {
   "cell_type": "code",
   "execution_count": 39,
   "metadata": {
    "colab": {
     "autoexec": {
      "startup": false,
      "wait_interval": 0
     },
     "base_uri": "https://localhost:8080/",
     "height": 34,
     "output_extras": [
      {
       "item_id": 1
      }
     ]
    },
    "colab_type": "code",
    "collapsed": false,
    "deletable": true,
    "editable": true,
    "executionInfo": {
     "elapsed": 1408,
     "status": "ok",
     "timestamp": 1521125179340,
     "user": {
      "displayName": "Rayno Mostert",
      "photoUrl": "https://lh3.googleusercontent.com/a/default-user=s128",
      "userId": "107056986412592388577"
     },
     "user_tz": -120
    },
    "id": "oOn9GWTDHnNi",
    "outputId": "04451f56-9a88-40f4-aa77-f0fba11a3766"
   },
   "outputs": [
    {
     "data": {
      "text/plain": [
       "2488.3199999999997"
      ]
     },
     "execution_count": 39,
     "metadata": {
      "tags": []
     },
     "output_type": "execute_result"
    }
   ],
   "source": [
    "FV_5"
   ]
  },
  {
   "cell_type": "markdown",
   "metadata": {
    "colab_type": "text",
    "deletable": true,
    "editable": true,
    "id": "5sujKHMvHqgn"
   },
   "source": [
    "That's outrageous!  After 5 years, you'll have to pay back FedBank R2488.32!"
   ]
  },
  {
   "cell_type": "markdown",
   "metadata": {
    "colab_type": "text",
    "deletable": true,
    "editable": true,
    "id": "5NN3iyvUIKV-"
   },
   "source": [
    "### Rewrite as a for-loop"
   ]
  },
  {
   "cell_type": "markdown",
   "metadata": {
    "colab_type": "text",
    "deletable": true,
    "editable": true,
    "id": "h3krY1fdIKWB"
   },
   "source": [
    "Those calculations are quite clunky don't you think?\n",
    "\n",
    "We could do all of that within a `for` loop as follows:"
   ]
  },
  {
   "cell_type": "code",
   "execution_count": 0,
   "metadata": {
    "colab": {
     "autoexec": {
      "startup": false,
      "wait_interval": 0
     }
    },
    "colab_type": "code",
    "collapsed": true,
    "deletable": true,
    "editable": true,
    "id": "TsROUK8vIKWE"
   },
   "outputs": [],
   "source": [
    "# Present Value of the Loan amount:\n",
    "PV = 1000\n",
    "\n",
    "# Interest rate, i:\n",
    "i = 20 / 100\n",
    "\n",
    "# The future value, FV, is the value we'll keep incrementing in the for loop.\n",
    "# We can start off by setting it equal to the present value:\n",
    "\n",
    "FV = PV\n",
    "\n",
    "for j in range(5):\n",
    "    interest = FV * i\n",
    "    FV = FV + interest"
   ]
  },
  {
   "cell_type": "code",
   "execution_count": 43,
   "metadata": {
    "colab": {
     "autoexec": {
      "startup": false,
      "wait_interval": 0
     },
     "base_uri": "https://localhost:8080/",
     "height": 34,
     "output_extras": [
      {
       "item_id": 1
      }
     ]
    },
    "colab_type": "code",
    "collapsed": false,
    "deletable": true,
    "editable": true,
    "executionInfo": {
     "elapsed": 1089,
     "status": "ok",
     "timestamp": 1521126120458,
     "user": {
      "displayName": "Rayno Mostert",
      "photoUrl": "https://lh3.googleusercontent.com/a/default-user=s128",
      "userId": "107056986412592388577"
     },
     "user_tz": -120
    },
    "id": "7TB2EJ94IKWL",
    "outputId": "7633c25a-3f8a-445d-d711-b5eeab5db967"
   },
   "outputs": [
    {
     "data": {
      "text/plain": [
       "2488.3199999999997"
      ]
     },
     "execution_count": 43,
     "metadata": {
      "tags": []
     },
     "output_type": "execute_result"
    }
   ],
   "source": [
    "FV"
   ]
  },
  {
   "cell_type": "markdown",
   "metadata": {
    "colab_type": "text",
    "deletable": true,
    "editable": true,
    "id": "ctCxN4BsIKWe"
   },
   "source": [
    "Which is exactly the same as the previous answer we calculated manually."
   ]
  },
  {
   "cell_type": "markdown",
   "metadata": {
    "colab_type": "text",
    "deletable": true,
    "editable": true,
    "id": "7qgpzqc7Lzmr"
   },
   "source": [
    "## Extra Credit: Financial Mathematics"
   ]
  },
  {
   "cell_type": "markdown",
   "metadata": {
    "colab_type": "text",
    "deletable": true,
    "editable": true,
    "id": "DAOvhYIeBpWu"
   },
   "source": [
    "As it turns out, theres a simplified formula for calculating this Future Value, $FV$, \n",
    "- given some present value, $PV$,\n",
    "- some interest rate, $i$ per period,\n",
    "- and number of periods, $n$:\n",
    "\n",
    "\\begin{equation}\n",
    "FV = PV(1 + i)^n\n",
    "\\end{equation}\n",
    "\n",
    "*You do not need to memorise this formula.*\n",
    "\n",
    "***\n",
    "Recap of the Loan summary:\n",
    "\n",
    "*   $PV$:     **R1000**\n",
    "*   $n$:      **5 years**\n",
    "*   $i$:      **20% interest** per annum, compounded annually\n",
    "\n",
    "***\n",
    "\n",
    "Using our formula, we'd calculate this as follows:"
   ]
  },
  {
   "cell_type": "code",
   "execution_count": 44,
   "metadata": {
    "colab": {
     "autoexec": {
      "startup": false,
      "wait_interval": 0
     },
     "base_uri": "https://localhost:8080/",
     "height": 34,
     "output_extras": [
      {
       "item_id": 1
      }
     ]
    },
    "colab_type": "code",
    "collapsed": false,
    "deletable": true,
    "editable": true,
    "executionInfo": {
     "elapsed": 1348,
     "status": "ok",
     "timestamp": 1521126383636,
     "user": {
      "displayName": "Rayno Mostert",
      "photoUrl": "https://lh3.googleusercontent.com/a/default-user=s128",
      "userId": "107056986412592388577"
     },
     "user_tz": -120
    },
    "id": "OG5pd3pmBpWw",
    "outputId": "440d3a05-6142-423d-c084-d1a4ccc563a3"
   },
   "outputs": [
    {
     "data": {
      "text/plain": [
       "2488.3199999999993"
      ]
     },
     "execution_count": 44,
     "metadata": {
      "tags": []
     },
     "output_type": "execute_result"
    }
   ],
   "source": [
    "# Present Value of the Loan amount:\n",
    "PV = 1000\n",
    "\n",
    "# Interest rate, i:\n",
    "i = 20 / 100\n",
    "\n",
    "# Term in years, n:\n",
    "n = 5\n",
    "\n",
    "#Calculate the Future Value, FV:\n",
    "PV*(1 + i)**n"
   ]
  },
  {
   "cell_type": "markdown",
   "metadata": {
    "colab_type": "text",
    "deletable": true,
    "editable": true,
    "id": "11bY0YBSBpW_"
   },
   "source": [
    "Notice that this is exactly the same answer as we got previously.  \n",
    "\n",
    "Going forward, you can either use this formula, or use `for` loops to calculate the answer.  \n",
    "\n",
    "Both will give the same result."
   ]
  },
  {
   "cell_type": "markdown",
   "metadata": {
    "colab_type": "text",
    "deletable": true,
    "editable": true,
    "id": "dSvgcNKWIFtF"
   },
   "source": [
    "### Exercise 1: Future Value Formula"
   ]
  },
  {
   "cell_type": "markdown",
   "metadata": {
    "colab_type": "text",
    "deletable": true,
    "editable": true,
    "id": "6cvcwqe2IF61"
   },
   "source": [
    "Write a function, `future_value`, that takes as an argument, a present value $PV$, interest rate $i$, and a term $n$, and return the future repayment value, $FV$ of that loan. "
   ]
  },
  {
   "cell_type": "code",
   "execution_count": 0,
   "metadata": {
    "colab": {
     "autoexec": {
      "startup": false,
      "wait_interval": 0
     }
    },
    "colab_type": "code",
    "collapsed": true,
    "deletable": true,
    "editable": true,
    "id": "x-srvXEP6P_J"
   },
   "outputs": [],
   "source": [
    "def future_value(PV, i, n):\n",
    "  \n",
    "  # YOUR CODE HERE:\n",
    "  # FV = some formula\n",
    "  \n",
    "    return FV"
   ]
  },
  {
   "cell_type": "code",
   "execution_count": 0,
   "metadata": {
    "colab": {
     "autoexec": {
      "startup": false,
      "wait_interval": 0
     },
     "base_uri": "https://localhost:8080/",
     "height": 34,
     "output_extras": [
      {}
     ]
    },
    "colab_type": "code",
    "collapsed": false,
    "deletable": true,
    "editable": true,
    "executionInfo": {
     "elapsed": 973,
     "status": "ok",
     "timestamp": 1520420961130,
     "user": {
      "displayName": "Rayno Mostert",
      "photoUrl": "https://lh3.googleusercontent.com/a/default-user=s128",
      "userId": "107056986412592388577"
     },
     "user_tz": -120
    },
    "id": "mxl7BsvhJbEE",
    "outputId": "bce15414-3f70-42c2-b06c-6c37f28a2318"
   },
   "outputs": [
    {
     "data": {
      "text/plain": [
       "2022.7788678539534"
      ]
     },
     "execution_count": 9,
     "metadata": {
      "tags": []
     },
     "output_type": "execute_result"
    }
   ],
   "source": [
    "future_value(500, 0.15, 10)"
   ]
  },
  {
   "cell_type": "markdown",
   "metadata": {
    "colab_type": "text",
    "deletable": true,
    "editable": true,
    "id": "MF_CtJtfJNr6"
   },
   "source": [
    "Your code should give the following results:\n",
    "\n",
    "\n",
    "*   `future_value(100, 0.1, 20) = 672.7499949325611`\n",
    "*   `future_value(500, 0.15, 10) = 2022.7788678539534`\n",
    "\n"
   ]
  },
  {
   "cell_type": "markdown",
   "metadata": {
    "colab_type": "text",
    "deletable": true,
    "editable": true,
    "id": "c1bQ5m1IJ1pg"
   },
   "source": [
    "Make sure that both of the statements below return '`True`':"
   ]
  },
  {
   "cell_type": "code",
   "execution_count": 0,
   "metadata": {
    "colab": {
     "autoexec": {
      "startup": false,
      "wait_interval": 0
     },
     "base_uri": "https://localhost:8080/",
     "height": 34,
     "output_extras": [
      {}
     ]
    },
    "colab_type": "code",
    "collapsed": false,
    "deletable": true,
    "editable": true,
    "executionInfo": {
     "elapsed": 1094,
     "status": "ok",
     "timestamp": 1520421065618,
     "user": {
      "displayName": "Rayno Mostert",
      "photoUrl": "https://lh3.googleusercontent.com/a/default-user=s128",
      "userId": "107056986412592388577"
     },
     "user_tz": -120
    },
    "id": "MpZF-q90JCX_",
    "outputId": "81099595-9f36-467f-d9db-8e1a18f14349"
   },
   "outputs": [
    {
     "data": {
      "text/plain": [
       "True"
      ]
     },
     "execution_count": 12,
     "metadata": {
      "tags": []
     },
     "output_type": "execute_result"
    }
   ],
   "source": [
    "future_value(100, 0.1, 20) == 672.7499949325611"
   ]
  },
  {
   "cell_type": "code",
   "execution_count": 0,
   "metadata": {
    "colab": {
     "autoexec": {
      "startup": false,
      "wait_interval": 0
     },
     "base_uri": "https://localhost:8080/",
     "height": 34,
     "output_extras": [
      {}
     ]
    },
    "colab_type": "code",
    "collapsed": false,
    "deletable": true,
    "editable": true,
    "executionInfo": {
     "elapsed": 986,
     "status": "ok",
     "timestamp": 1520421068918,
     "user": {
      "displayName": "Rayno Mostert",
      "photoUrl": "https://lh3.googleusercontent.com/a/default-user=s128",
      "userId": "107056986412592388577"
     },
     "user_tz": -120
    },
    "id": "rDeJe1nNJ9MY",
    "outputId": "5168a1a5-a10d-4cf6-9331-e9fec0d36b45"
   },
   "outputs": [
    {
     "data": {
      "text/plain": [
       "True"
      ]
     },
     "execution_count": 14,
     "metadata": {
      "tags": []
     },
     "output_type": "execute_result"
    }
   ],
   "source": [
    "future_value(500, 0.15, 10) == 2022.7788678539534"
   ]
  },
  {
   "cell_type": "markdown",
   "metadata": {
    "colab_type": "text",
    "deletable": true,
    "editable": true,
    "id": "2SnUcV7NedvB"
   },
   "source": [
    "### Exercise 2: Investment Calculator"
   ]
  },
  {
   "cell_type": "markdown",
   "metadata": {
    "colab_type": "text",
    "deletable": true,
    "editable": true,
    "id": "Z4Uo-alEedvD"
   },
   "source": [
    "The same principles that apply to lending, apply to investing.\n",
    "When we save an amount ($PV$), at some interest rate ($i$), compounded annually for $n$ years, the ultimate value ($FV$) of our savings would be:\n",
    "\n",
    "$FV = PV(1 + i)^n$"
   ]
  },
  {
   "cell_type": "markdown",
   "metadata": {
    "colab_type": "text",
    "deletable": true,
    "editable": true,
    "id": "ivbN6tH1edvF"
   },
   "source": [
    "As an example:\n",
    "\n",
    "Let's say your mom put $R1000$ in her savings account on the day you were born.\n",
    "\n",
    "Her savings account pays her $9$% interest per year, compounded annually.\n",
    "\n",
    "On your $21$st birthday, she gives you the total amount in the savings account as a birthday gift.\n",
    "\n",
    "What would that amount ($FV$) be?"
   ]
  },
  {
   "cell_type": "code",
   "execution_count": 0,
   "metadata": {
    "colab": {
     "autoexec": {
      "startup": false,
      "wait_interval": 0
     },
     "base_uri": "https://localhost:8080/",
     "height": 34,
     "output_extras": [
      {}
     ]
    },
    "colab_type": "code",
    "collapsed": false,
    "deletable": true,
    "editable": true,
    "executionInfo": {
     "elapsed": 965,
     "status": "ok",
     "timestamp": 1520422400457,
     "user": {
      "displayName": "Rayno Mostert",
      "photoUrl": "https://lh3.googleusercontent.com/a/default-user=s128",
      "userId": "107056986412592388577"
     },
     "user_tz": -120
    },
    "id": "L6cZz60nedvF",
    "outputId": "32a78cdb-ee47-43b0-b782-dfa9b28881cf"
   },
   "outputs": [
    {
     "data": {
      "text/plain": [
       "6108.807736878347"
      ]
     },
     "execution_count": 15,
     "metadata": {
      "tags": []
     },
     "output_type": "execute_result"
    }
   ],
   "source": [
    "# Using your future value calculator from before:\n",
    "future_value(1000, 0.09, 21)"
   ]
  },
  {
   "cell_type": "markdown",
   "metadata": {
    "colab_type": "text",
    "deletable": true,
    "editable": true,
    "id": "iMXangXAedvM"
   },
   "source": [
    "If your `future_value` function is correct.  The above answer should be something in the order of R$6108,81$."
   ]
  },
  {
   "cell_type": "markdown",
   "metadata": {
    "colab_type": "text",
    "deletable": true,
    "editable": true,
    "id": "ALldA8RXedvQ"
   },
   "source": [
    "******\n",
    "\n",
    "Now we'll try to make the calculation even easier for the user of our calculator.\n",
    "\n",
    "Given a start age, **`begin_age`**, at which an investment of $PV$ is made at $i$% per annum, calculate the final value of the investment at a later age, **`end_age`**.\n",
    "\n",
    "That is: define some function **`future_value(PV, i, begin_age, end_age)`**, that calculates and `return`s the future value of an investment at that future age, **`end_age`**."
   ]
  },
  {
   "cell_type": "code",
   "execution_count": 0,
   "metadata": {
    "colab": {
     "autoexec": {
      "startup": false,
      "wait_interval": 0
     }
    },
    "colab_type": "code",
    "collapsed": true,
    "deletable": true,
    "editable": true,
    "id": "kzVYyw1DedvR"
   },
   "outputs": [],
   "source": [
    "def future_value(PV, i, begin_age, end_age):\n",
    "  \n",
    "  # YOUR CODE HERE:\n",
    "  # FV = some formula\n",
    "  \n",
    "    return FV"
   ]
  },
  {
   "cell_type": "markdown",
   "metadata": {
    "colab_type": "text",
    "deletable": true,
    "editable": true,
    "id": "ILwrjylOywb6"
   },
   "source": [
    "### Exercise 3: Present Value Formula\n",
    "\n",
    "Now we're just going to do the reverse of what we did above.  Instead of calculating future repayment amounts - we'll calculate the current amounts we can afford to loan, such that the future repayment, $FV$, is equal to something specific.\n",
    "\n",
    "***\n",
    "\n",
    "You just turned 25 and you really want to buy a new car.  \n",
    "\n",
    "You know that in 5 year's time - when you turn 30 - you will get R100 000 from your relatives for your 30th birthday.\n",
    "\n",
    "FedBank is willing to lend you money for your car, at 10% interest per year for 5 years.\n",
    "\n",
    "Assuming that you take the loan, and agree to pay back R100 000 in 5 years' time, what amount can you afford to lend now?\n",
    "\n",
    "***\n",
    "Loan summary:\n",
    "\n",
    "*   $FV$:     **R100 000**\n",
    "*   $n$:      **5 years**\n",
    "*   $i$:      **10% interest** per annum, compounded annually\n",
    "\n",
    "Given a future repayment amount, FV, the formula for the present value of the loan (PV) is given by:\n",
    "\n",
    "\n",
    "\\begin{equation}\n",
    "PV = \\frac{FV}{(1 + i)^n}\n",
    "\\end{equation}\n",
    "\n",
    "\n",
    "***\n",
    "\n",
    "\n",
    "Now write a function:\n",
    "\n",
    "**`present_value(FV, i, n)`**\n",
    "\n",
    "that calculates and `return`s the present value of a loan amount, with a repayment of **`FV`** in **`n`** years' time.\n",
    "\n",
    "<br>\n",
    "\n",
    "** IMPORTANT:  YOUR FUNCTION MAY NOT USE ANY PREVIOUS FUNCTIONS CREATED EARLIER **"
   ]
  },
  {
   "cell_type": "code",
   "execution_count": 0,
   "metadata": {
    "colab": {
     "autoexec": {
      "startup": false,
      "wait_interval": 0
     }
    },
    "colab_type": "code",
    "collapsed": true,
    "deletable": true,
    "editable": true,
    "id": "kiVia_3m0dK9"
   },
   "outputs": [],
   "source": [
    "def present_value(FV, i, n):\n",
    "  \n",
    "  # YOUR CODE HERE:\n",
    "  # PV = some formula\n",
    "  \n",
    "    return PV"
   ]
  },
  {
   "cell_type": "markdown",
   "metadata": {
    "colab_type": "text",
    "deletable": true,
    "editable": true,
    "id": "ZnJ0N8roec-i"
   },
   "source": [
    "## Annuities"
   ]
  },
  {
   "cell_type": "markdown",
   "metadata": {
    "colab_type": "text",
    "deletable": true,
    "editable": true,
    "id": "D7phfJjVec-j"
   },
   "source": [
    "You've just turned 21.\n",
    "\n",
    "You know that you want to buy a house by the time you turn 36.\n",
    "\n",
    "You can afford to save your bonus of *R20 000* every year.  Additionally, you've negotiated with your bank, FedBank, to offer you a good interest rate of 10% per year on your savings. \n",
    "\n",
    "How much money would you have saved by the age of 36?"
   ]
  },
  {
   "cell_type": "markdown",
   "metadata": {
    "colab_type": "text",
    "deletable": true,
    "editable": true,
    "id": "yxqWxQWGec-k"
   },
   "source": [
    "***\n",
    "Loan summary:\n",
    "\n",
    "*   $PMT$:  **R20 000 per year**, paid at the END of the year\n",
    "*   term:      **15 years**\n",
    "*   $i$:      **10% interest** per YEAR, compounded annually\n",
    "\n",
    "***"
   ]
  },
  {
   "cell_type": "code",
   "execution_count": 0,
   "metadata": {
    "colab": {
     "autoexec": {
      "startup": false,
      "wait_interval": 0
     }
    },
    "colab_type": "code",
    "collapsed": true,
    "deletable": true,
    "editable": true,
    "id": "R1LsK6XXec-m"
   },
   "outputs": [],
   "source": [
    "# Annual payment amount (our bonus) paid at the end of the year:\n",
    "PMT = 20000\n",
    "\n",
    "# Interest rate, i per year, compounded annually:\n",
    "i = 10 / 100\n",
    "\n",
    "# Number of years, n:\n",
    "n = 15"
   ]
  },
  {
   "cell_type": "markdown",
   "metadata": {
    "colab_type": "text",
    "deletable": true,
    "editable": true,
    "id": "54nClCwCN98i"
   },
   "source": [
    "We'll calculate the amount of money in the investment account by using a `for` loop, just like we did in the very first example."
   ]
  },
  {
   "cell_type": "code",
   "execution_count": 0,
   "metadata": {
    "colab": {
     "autoexec": {
      "startup": false,
      "wait_interval": 0
     }
    },
    "colab_type": "code",
    "collapsed": true,
    "deletable": true,
    "editable": true,
    "id": "i1hLJL4w5Uae"
   },
   "outputs": [],
   "source": [
    "# Start by setting the investment_balance equal to zero. We'll increase investment_balance in the for-loop\n",
    "investment_balance = 0\n",
    "\n",
    "for j in range(n):\n",
    "  \n",
    "    # add the interest earned on our investment account\n",
    "    interest =  investment_balance * i\n",
    "    investment_balance = investment_balance + interest\n",
    "  \n",
    "    # at the end of the year we add our bonus to the investment\n",
    "    investment_balance = investment_balance + PMT"
   ]
  },
  {
   "cell_type": "code",
   "execution_count": 52,
   "metadata": {
    "colab": {
     "autoexec": {
      "startup": false,
      "wait_interval": 0
     },
     "base_uri": "https://localhost:8080/",
     "height": 34,
     "output_extras": [
      {
       "item_id": 1
      }
     ]
    },
    "colab_type": "code",
    "collapsed": false,
    "deletable": true,
    "editable": true,
    "executionInfo": {
     "elapsed": 1366,
     "status": "ok",
     "timestamp": 1521127086670,
     "user": {
      "displayName": "Rayno Mostert",
      "photoUrl": "https://lh3.googleusercontent.com/a/default-user=s128",
      "userId": "107056986412592388577"
     },
     "user_tz": -120
    },
    "id": "vT_EXUI1PKGP",
    "outputId": "3a07ba61-1241-48c8-9e23-3c7b2e43ef41"
   },
   "outputs": [
    {
     "data": {
      "text/plain": [
       "635449.6338831302"
      ]
     },
     "execution_count": 52,
     "metadata": {
      "tags": []
     },
     "output_type": "execute_result"
    }
   ],
   "source": [
    "investment_balance"
   ]
  },
  {
   "cell_type": "markdown",
   "metadata": {
    "colab_type": "text",
    "deletable": true,
    "editable": true,
    "id": "EOm8pPHaec-w"
   },
   "source": [
    "Thats a lot! Investing R20 000 every year at 10% interest would result in total savings of R$635 449.63$!."
   ]
  },
  {
   "cell_type": "markdown",
   "metadata": {
    "colab_type": "text",
    "deletable": true,
    "editable": true,
    "id": "YOoG_HyVec-x"
   },
   "source": [
    "Let's calculate how much in total you paid:"
   ]
  },
  {
   "cell_type": "code",
   "execution_count": 13,
   "metadata": {
    "colab": {
     "autoexec": {
      "startup": false,
      "wait_interval": 0
     },
     "base_uri": "https://localhost:8080/",
     "height": 34,
     "output_extras": [
      {
       "item_id": 1
      }
     ]
    },
    "colab_type": "code",
    "collapsed": false,
    "deletable": true,
    "editable": true,
    "executionInfo": {
     "elapsed": 1479,
     "status": "ok",
     "timestamp": 1521121754664,
     "user": {
      "displayName": "Rayno Mostert",
      "photoUrl": "https://lh3.googleusercontent.com/a/default-user=s128",
      "userId": "107056986412592388577"
     },
     "user_tz": -120
    },
    "id": "oF04oHWaec-y",
    "outputId": "e5d2c43f-68b2-4483-849e-fa4562c06530"
   },
   "outputs": [
    {
     "data": {
      "text/plain": [
       "300000"
      ]
     },
     "execution_count": 13,
     "metadata": {
      "tags": []
     },
     "output_type": "execute_result"
    }
   ],
   "source": [
    "20000 * 15"
   ]
  },
  {
   "cell_type": "markdown",
   "metadata": {
    "colab_type": "text",
    "deletable": true,
    "editable": true,
    "id": "Y8KUnRBLiK9s"
   },
   "source": [
    "You put a total of R300 000 into your investment account, but you have R635 449.63 at the end.\n",
    "\n",
    "That means you earned R335 449.63 in interest - even more interest than the money you put aside!"
   ]
  },
  {
   "cell_type": "code",
   "execution_count": 50,
   "metadata": {
    "colab": {
     "autoexec": {
      "startup": false,
      "wait_interval": 0
     },
     "base_uri": "https://localhost:8080/",
     "height": 34,
     "output_extras": [
      {
       "item_id": 1
      }
     ]
    },
    "colab_type": "code",
    "collapsed": false,
    "deletable": true,
    "editable": true,
    "executionInfo": {
     "elapsed": 1062,
     "status": "ok",
     "timestamp": 1521127064031,
     "user": {
      "displayName": "Rayno Mostert",
      "photoUrl": "https://lh3.googleusercontent.com/a/default-user=s128",
      "userId": "107056986412592388577"
     },
     "user_tz": -120
    },
    "id": "grTyMlGmiflA",
    "outputId": "f19a7424-ed80-4a3b-8141-c5bf0467afc4"
   },
   "outputs": [
    {
     "data": {
      "text/plain": [
       "335449.63388313015"
      ]
     },
     "execution_count": 50,
     "metadata": {
      "tags": []
     },
     "output_type": "execute_result"
    }
   ],
   "source": [
    "investment_balance - 300000"
   ]
  },
  {
   "cell_type": "markdown",
   "metadata": {
    "colab_type": "text",
    "deletable": true,
    "editable": true,
    "id": "gcxeBNkAeiHC"
   },
   "source": [
    "### Exercise 4: Annuity Calculator\n",
    "\n",
    "Define a function **`FV_annuity(PMT, i, n)`** that takes - as arguments - a periodic payment, **`PMT`**, periodic interest rate, **`i`**, and number of periods, **`n`**.\n",
    "\n",
    "It must return the future value of the savings."
   ]
  },
  {
   "cell_type": "code",
   "execution_count": 0,
   "metadata": {
    "colab": {
     "autoexec": {
      "startup": false,
      "wait_interval": 0
     }
    },
    "colab_type": "code",
    "collapsed": true,
    "deletable": true,
    "editable": true,
    "id": "SzgnKKVbNoyP"
   },
   "outputs": [],
   "source": [
    "def FV_annuity(PMT, i, n):\n",
    "  \n",
    "  # YOUR CODE HERE:\n",
    "  # FV = some formula\n",
    "  \n",
    "    return FV"
   ]
  },
  {
   "cell_type": "code",
   "execution_count": 56,
   "metadata": {
    "colab": {
     "autoexec": {
      "startup": false,
      "wait_interval": 0
     },
     "base_uri": "https://localhost:8080/",
     "height": 34,
     "output_extras": [
      {
       "item_id": 1
      }
     ]
    },
    "colab_type": "code",
    "collapsed": false,
    "deletable": true,
    "editable": true,
    "executionInfo": {
     "elapsed": 1084,
     "status": "ok",
     "timestamp": 1521127292899,
     "user": {
      "displayName": "Rayno Mostert",
      "photoUrl": "https://lh3.googleusercontent.com/a/default-user=s128",
      "userId": "107056986412592388577"
     },
     "user_tz": -120
    },
    "id": "bhuQBIEYYEI2",
    "outputId": "14d27cde-dc08-47c0-ea56-e4594153607c"
   },
   "outputs": [
    {
     "data": {
      "text/plain": [
       "321937.91073999734"
      ]
     },
     "execution_count": 56,
     "metadata": {
      "tags": []
     },
     "output_type": "execute_result"
    }
   ],
   "source": [
    "FV_annuity(20000, 1/100, 15)"
   ]
  }
 ],
 "metadata": {
  "colab": {
   "collapsed_sections": [],
   "default_view": {},
   "name": "Financial Calculator.ipynb",
   "provenance": [],
   "version": "0.3.2",
   "views": {}
  },
  "kernelspec": {
   "display_name": "Python 3",
   "language": "python",
   "name": "python3"
  },
  "language_info": {
   "codemirror_mode": {
    "name": "ipython",
    "version": 3
   },
   "file_extension": ".py",
   "mimetype": "text/x-python",
   "name": "python",
   "nbconvert_exporter": "python",
   "pygments_lexer": "ipython3",
   "version": "3.6.0"
  }
 },
 "nbformat": 4,
 "nbformat_minor": 0
}
