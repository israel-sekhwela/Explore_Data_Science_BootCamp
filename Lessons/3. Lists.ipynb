{
 "cells": [
  {
   "cell_type": "markdown",
   "metadata": {},
   "source": [
    "# Lists"
   ]
  },
  {
   "cell_type": "markdown",
   "metadata": {
    "colab_type": "text",
    "deletable": true,
    "editable": true,
    "id": "pUe4IsDquW4S"
   },
   "source": [
    "Now that you know what Strings, Integers and Floats are, we'll introduce a new data type in Python: the list.\n",
    "\n",
    "Just like in real life, a **Python list** is simply a ***collection of things***."
   ]
  },
  {
   "cell_type": "code",
   "execution_count": 19,
   "metadata": {
    "colab": {
     "autoexec": {
      "startup": false,
      "wait_interval": 0
     }
    },
    "colab_type": "code",
    "collapsed": true,
    "deletable": true,
    "editable": true,
    "id": "CkHmKq6_uWMn"
   },
   "outputs": [],
   "source": [
    "cities_sa = [\"Johannesburg\", \"Cape Town\", \"Nelson Mandela Bay\", \"Pretoria\", \"Durban\", \"Bisho\", \"Mbombela\", \"Bloemfontein\", \"Kimberley\", \"Polokwane\"]"
   ]
  },
  {
   "cell_type": "code",
   "execution_count": 20,
   "metadata": {
    "colab": {
     "autoexec": {
      "startup": false,
      "wait_interval": 0
     },
     "base_uri": "https://localhost:8080/",
     "height": 191,
     "output_extras": [
      {
       "item_id": 1
      }
     ]
    },
    "colab_type": "code",
    "collapsed": false,
    "deletable": true,
    "editable": true,
    "executionInfo": {
     "elapsed": 1034,
     "status": "ok",
     "timestamp": 1521730887838,
     "user": {
      "displayName": "Rayno Mostert",
      "photoUrl": "https://lh3.googleusercontent.com/a/default-user=s128",
      "userId": "107056986412592388577"
     },
     "user_tz": -120
    },
    "id": "hjTRStPM8CP2",
    "outputId": "9a6c3edd-6a58-45ca-835e-91d9cccf12b7"
   },
   "outputs": [
    {
     "data": {
      "text/plain": [
       "['Johannesburg',\n",
       " 'Cape Town',\n",
       " 'Nelson Mandela Bay',\n",
       " 'Pretoria',\n",
       " 'Durban',\n",
       " 'Bisho',\n",
       " 'Mbombela',\n",
       " 'Bloemfontein',\n",
       " 'Kimberley',\n",
       " 'Polokwane']"
      ]
     },
     "execution_count": 20,
     "metadata": {},
     "output_type": "execute_result"
    }
   ],
   "source": [
    "cities_sa"
   ]
  },
  {
   "cell_type": "markdown",
   "metadata": {
    "colab_type": "text",
    "deletable": true,
    "editable": true,
    "id": "U4DR2J6OvRtB"
   },
   "source": [
    "In the code above, `cities_sa` is a **list** of strings representing the cities of South Africa."
   ]
  },
  {
   "cell_type": "markdown",
   "metadata": {
    "colab_type": "text",
    "deletable": true,
    "editable": true,
    "id": "v1Zhk7kLvi8A"
   },
   "source": [
    "We can sort any list alphabetically using `sorted()` in Python:"
   ]
  },
  {
   "cell_type": "code",
   "execution_count": 21,
   "metadata": {
    "colab": {
     "autoexec": {
      "startup": false,
      "wait_interval": 0
     },
     "base_uri": "https://localhost:8080/",
     "height": 191,
     "output_extras": [
      {
       "item_id": 1
      }
     ]
    },
    "colab_type": "code",
    "collapsed": false,
    "deletable": true,
    "editable": true,
    "executionInfo": {
     "elapsed": 1346,
     "status": "ok",
     "timestamp": 1521730889472,
     "user": {
      "displayName": "Rayno Mostert",
      "photoUrl": "https://lh3.googleusercontent.com/a/default-user=s128",
      "userId": "107056986412592388577"
     },
     "user_tz": -120
    },
    "id": "WIVhmnb6uSEC",
    "outputId": "fbf055f6-8db5-4567-9b74-d819774da81e"
   },
   "outputs": [
    {
     "data": {
      "text/plain": [
       "['Bisho',\n",
       " 'Bloemfontein',\n",
       " 'Cape Town',\n",
       " 'Durban',\n",
       " 'Johannesburg',\n",
       " 'Kimberley',\n",
       " 'Mbombela',\n",
       " 'Nelson Mandela Bay',\n",
       " 'Polokwane',\n",
       " 'Pretoria']"
      ]
     },
     "execution_count": 21,
     "metadata": {},
     "output_type": "execute_result"
    }
   ],
   "source": [
    "sorted(cities_sa)"
   ]
  },
  {
   "cell_type": "markdown",
   "metadata": {
    "colab_type": "text",
    "deletable": true,
    "editable": true,
    "id": "LpULvN1-vt8h"
   },
   "source": [
    "We can also count how many things there are in any list by using `len()`:"
   ]
  },
  {
   "cell_type": "code",
   "execution_count": 22,
   "metadata": {
    "colab": {
     "autoexec": {
      "startup": false,
      "wait_interval": 0
     },
     "base_uri": "https://localhost:8080/",
     "height": 34,
     "output_extras": [
      {
       "item_id": 1
      }
     ]
    },
    "colab_type": "code",
    "collapsed": false,
    "deletable": true,
    "editable": true,
    "executionInfo": {
     "elapsed": 792,
     "status": "ok",
     "timestamp": 1521730890608,
     "user": {
      "displayName": "Rayno Mostert",
      "photoUrl": "https://lh3.googleusercontent.com/a/default-user=s128",
      "userId": "107056986412592388577"
     },
     "user_tz": -120
    },
    "id": "6fPWC6Kiu0TA",
    "outputId": "99d14b93-bf58-4d6c-f5ca-cc4620d12d87"
   },
   "outputs": [
    {
     "data": {
      "text/plain": [
       "10"
      ]
     },
     "execution_count": 22,
     "metadata": {},
     "output_type": "execute_result"
    }
   ],
   "source": [
    "len(cities_sa)"
   ]
  },
  {
   "cell_type": "markdown",
   "metadata": {
    "colab_type": "text",
    "deletable": true,
    "editable": true,
    "id": "Bco-fD4xv2jy"
   },
   "source": [
    "We can get the $i^{th}$ thing in a list by using square bracket notation:"
   ]
  },
  {
   "cell_type": "code",
   "execution_count": 23,
   "metadata": {
    "colab": {
     "autoexec": {
      "startup": false,
      "wait_interval": 0
     },
     "base_uri": "https://localhost:8080/",
     "height": 34,
     "output_extras": [
      {
       "item_id": 1
      }
     ]
    },
    "colab_type": "code",
    "collapsed": false,
    "deletable": true,
    "editable": true,
    "executionInfo": {
     "elapsed": 1054,
     "status": "ok",
     "timestamp": 1521730891980,
     "user": {
      "displayName": "Rayno Mostert",
      "photoUrl": "https://lh3.googleusercontent.com/a/default-user=s128",
      "userId": "107056986412592388577"
     },
     "user_tz": -120
    },
    "id": "35iOL1XKvzFR",
    "outputId": "36126ced-56b0-4901-d279-7bd67727a850"
   },
   "outputs": [
    {
     "data": {
      "text/plain": [
       "'Nelson Mandela Bay'"
      ]
     },
     "execution_count": 23,
     "metadata": {},
     "output_type": "execute_result"
    }
   ],
   "source": [
    "cities_sa[2]"
   ]
  },
  {
   "cell_type": "markdown",
   "metadata": {
    "colab_type": "text",
    "deletable": true,
    "editable": true,
    "id": "Q2vvLRe7wXmv"
   },
   "source": [
    "## Indexing\n",
    "In Python - and indeed many other programming languaging - we start indexing at zero.\n",
    "\n",
    "What that means is that:\n",
    "- the ***first item*** in any list is *item* ***number 0***.\n",
    "- the ***second item*** in any list is *item* ***number 1***.\n",
    "- the ***third item*** in any list is *item* ***number 2***.\n",
    "- etc."
   ]
  },
  {
   "cell_type": "markdown",
   "metadata": {
    "colab_type": "text",
    "deletable": true,
    "editable": true,
    "id": "1vbcb90SLHhI"
   },
   "source": [
    "![indexing](https://raw.githubusercontent.com/Explore-AI/Public-Data/master/list_indexing.png)"
   ]
  },
  {
   "cell_type": "markdown",
   "metadata": {
    "colab_type": "text",
    "deletable": true,
    "editable": true,
    "id": "Cn4NTsruLKrq"
   },
   "source": [
    "So for a list `['a', 'b', 'c', 'd', 'e', 'f']`, in order to get the first element (`'a'`), we need to use the  index 0:"
   ]
  },
  {
   "cell_type": "code",
   "execution_count": 24,
   "metadata": {
    "colab": {
     "autoexec": {
      "startup": false,
      "wait_interval": 0
     }
    },
    "colab_type": "code",
    "collapsed": true,
    "deletable": true,
    "editable": true,
    "id": "nwj_YSq9LKdG"
   },
   "outputs": [],
   "source": [
    "alpha = ['a', 'b', 'c', 'd', 'e', 'f']"
   ]
  },
  {
   "cell_type": "code",
   "execution_count": 25,
   "metadata": {
    "colab": {
     "autoexec": {
      "startup": false,
      "wait_interval": 0
     },
     "base_uri": "https://localhost:8080/",
     "height": 34,
     "output_extras": [
      {
       "item_id": 1
      }
     ]
    },
    "colab_type": "code",
    "collapsed": false,
    "deletable": true,
    "editable": true,
    "executionInfo": {
     "elapsed": 912,
     "status": "ok",
     "timestamp": 1521730894336,
     "user": {
      "displayName": "Rayno Mostert",
      "photoUrl": "https://lh3.googleusercontent.com/a/default-user=s128",
      "userId": "107056986412592388577"
     },
     "user_tz": -120
    },
    "id": "YKYyM_epLcKK",
    "outputId": "256d6aa1-8c59-4b4a-9cd3-0dbed6fd2b64"
   },
   "outputs": [
    {
     "data": {
      "text/plain": [
       "'a'"
      ]
     },
     "execution_count": 25,
     "metadata": {},
     "output_type": "execute_result"
    }
   ],
   "source": [
    "alpha[0]"
   ]
  },
  {
   "cell_type": "markdown",
   "metadata": {
    "colab_type": "text",
    "deletable": true,
    "editable": true,
    "id": "P_fsUZAfw7Y7"
   },
   "source": [
    "So, to get the **first city** from our list of cities, we'll use:"
   ]
  },
  {
   "cell_type": "code",
   "execution_count": 26,
   "metadata": {
    "colab": {
     "autoexec": {
      "startup": false,
      "wait_interval": 0
     },
     "base_uri": "https://localhost:8080/",
     "height": 34,
     "output_extras": [
      {
       "item_id": 1
      }
     ]
    },
    "colab_type": "code",
    "collapsed": false,
    "deletable": true,
    "editable": true,
    "executionInfo": {
     "elapsed": 986,
     "status": "ok",
     "timestamp": 1521730895450,
     "user": {
      "displayName": "Rayno Mostert",
      "photoUrl": "https://lh3.googleusercontent.com/a/default-user=s128",
      "userId": "107056986412592388577"
     },
     "user_tz": -120
    },
    "id": "7f9tn3x9wObN",
    "outputId": "21550620-f68b-476b-b23c-b92cd323d0c3"
   },
   "outputs": [
    {
     "data": {
      "text/plain": [
       "'Johannesburg'"
      ]
     },
     "execution_count": 26,
     "metadata": {},
     "output_type": "execute_result"
    }
   ],
   "source": [
    "cities_sa[0]"
   ]
  },
  {
   "cell_type": "markdown",
   "metadata": {
    "colab_type": "text",
    "deletable": true,
    "editable": true,
    "id": "B6Yu1buQxEMf"
   },
   "source": [
    "To get the **second city** in our list of cities, we'll get the city at ***index 1***:"
   ]
  },
  {
   "cell_type": "code",
   "execution_count": 27,
   "metadata": {
    "colab": {
     "autoexec": {
      "startup": false,
      "wait_interval": 0
     },
     "base_uri": "https://localhost:8080/",
     "height": 34,
     "output_extras": [
      {
       "item_id": 1
      }
     ]
    },
    "colab_type": "code",
    "collapsed": false,
    "deletable": true,
    "editable": true,
    "executionInfo": {
     "elapsed": 756,
     "status": "ok",
     "timestamp": 1521730896638,
     "user": {
      "displayName": "Rayno Mostert",
      "photoUrl": "https://lh3.googleusercontent.com/a/default-user=s128",
      "userId": "107056986412592388577"
     },
     "user_tz": -120
    },
    "id": "K0Ge6f_bw_xQ",
    "outputId": "2dc76104-a3c2-4999-934a-9f7316cb6f25"
   },
   "outputs": [
    {
     "data": {
      "text/plain": [
       "'Cape Town'"
      ]
     },
     "execution_count": 27,
     "metadata": {},
     "output_type": "execute_result"
    }
   ],
   "source": [
    "cities_sa[1]"
   ]
  },
  {
   "cell_type": "markdown",
   "metadata": {
    "colab_type": "text",
    "deletable": true,
    "editable": true,
    "id": "Lnzxiocc7aAS"
   },
   "source": [
    "## Backward Indexing\n",
    "We can also use negative indices in Python, so that:\n",
    "- An index of `-1` will refer to the **last item** in the list.\n",
    "- An index of `-2` will refer to the **second-last item** in the list.\n",
    "- An index of `-3` will refer to the **third-last item** in the list.\n",
    "- and so on..."
   ]
  },
  {
   "cell_type": "code",
   "execution_count": 28,
   "metadata": {
    "colab": {
     "autoexec": {
      "startup": false,
      "wait_interval": 0
     },
     "base_uri": "https://localhost:8080/",
     "height": 34,
     "output_extras": [
      {
       "item_id": 1
      }
     ]
    },
    "colab_type": "code",
    "collapsed": false,
    "deletable": true,
    "editable": true,
    "executionInfo": {
     "elapsed": 892,
     "status": "ok",
     "timestamp": 1521730897768,
     "user": {
      "displayName": "Rayno Mostert",
      "photoUrl": "https://lh3.googleusercontent.com/a/default-user=s128",
      "userId": "107056986412592388577"
     },
     "user_tz": -120
    },
    "id": "H-Xs-YZE77M2",
    "outputId": "b4267389-0829-4a53-d531-adba9232809f"
   },
   "outputs": [
    {
     "data": {
      "text/plain": [
       "'Polokwane'"
      ]
     },
     "execution_count": 28,
     "metadata": {},
     "output_type": "execute_result"
    }
   ],
   "source": [
    "cities_sa[-1]"
   ]
  },
  {
   "cell_type": "code",
   "execution_count": 29,
   "metadata": {
    "colab": {
     "autoexec": {
      "startup": false,
      "wait_interval": 0
     },
     "base_uri": "https://localhost:8080/",
     "height": 34,
     "output_extras": [
      {
       "item_id": 1
      }
     ]
    },
    "colab_type": "code",
    "collapsed": false,
    "deletable": true,
    "editable": true,
    "executionInfo": {
     "elapsed": 794,
     "status": "ok",
     "timestamp": 1521730898874,
     "user": {
      "displayName": "Rayno Mostert",
      "photoUrl": "https://lh3.googleusercontent.com/a/default-user=s128",
      "userId": "107056986412592388577"
     },
     "user_tz": -120
    },
    "id": "S7lyM_DX798G",
    "outputId": "b1fdc163-c3f7-48c3-d673-06d37ba229ae"
   },
   "outputs": [
    {
     "data": {
      "text/plain": [
       "'Kimberley'"
      ]
     },
     "execution_count": 29,
     "metadata": {},
     "output_type": "execute_result"
    }
   ],
   "source": [
    "cities_sa[-2]"
   ]
  },
  {
   "cell_type": "code",
   "execution_count": 30,
   "metadata": {
    "colab": {
     "autoexec": {
      "startup": false,
      "wait_interval": 0
     },
     "base_uri": "https://localhost:8080/",
     "height": 34,
     "output_extras": [
      {
       "item_id": 1
      }
     ]
    },
    "colab_type": "code",
    "collapsed": false,
    "deletable": true,
    "editable": true,
    "executionInfo": {
     "elapsed": 792,
     "status": "ok",
     "timestamp": 1521730900000,
     "user": {
      "displayName": "Rayno Mostert",
      "photoUrl": "https://lh3.googleusercontent.com/a/default-user=s128",
      "userId": "107056986412592388577"
     },
     "user_tz": -120
    },
    "id": "R7mnHqAJ8GJ6",
    "outputId": "85cd5ea3-9d7a-4dfc-bbb7-09de17f53ff8"
   },
   "outputs": [
    {
     "data": {
      "text/plain": [
       "'Bloemfontein'"
      ]
     },
     "execution_count": 30,
     "metadata": {},
     "output_type": "execute_result"
    }
   ],
   "source": [
    "cities_sa[-3]"
   ]
  },
  {
   "cell_type": "markdown",
   "metadata": {
    "colab_type": "text",
    "deletable": true,
    "editable": true,
    "id": "EFmkOQqU1bT-"
   },
   "source": [
    "## List Operations\n",
    "In Python, we can perform arithmetic with lists too, for example:\n",
    "\n",
    "### Multiplication"
   ]
  },
  {
   "cell_type": "code",
   "execution_count": 31,
   "metadata": {
    "colab": {
     "autoexec": {
      "startup": false,
      "wait_interval": 0
     },
     "base_uri": "https://localhost:8080/",
     "height": 538,
     "output_extras": [
      {
       "item_id": 1
      }
     ]
    },
    "colab_type": "code",
    "collapsed": false,
    "deletable": true,
    "editable": true,
    "executionInfo": {
     "elapsed": 926,
     "status": "ok",
     "timestamp": 1521730901260,
     "user": {
      "displayName": "Rayno Mostert",
      "photoUrl": "https://lh3.googleusercontent.com/a/default-user=s128",
      "userId": "107056986412592388577"
     },
     "user_tz": -120
    },
    "id": "AxJcAOkN1dg1",
    "outputId": "ae09429d-fe90-45bd-de56-6cb939fdfef1"
   },
   "outputs": [
    {
     "data": {
      "text/plain": [
       "['Johannesburg',\n",
       " 'Cape Town',\n",
       " 'Nelson Mandela Bay',\n",
       " 'Pretoria',\n",
       " 'Durban',\n",
       " 'Bisho',\n",
       " 'Mbombela',\n",
       " 'Bloemfontein',\n",
       " 'Kimberley',\n",
       " 'Polokwane',\n",
       " 'Johannesburg',\n",
       " 'Cape Town',\n",
       " 'Nelson Mandela Bay',\n",
       " 'Pretoria',\n",
       " 'Durban',\n",
       " 'Bisho',\n",
       " 'Mbombela',\n",
       " 'Bloemfontein',\n",
       " 'Kimberley',\n",
       " 'Polokwane',\n",
       " 'Johannesburg',\n",
       " 'Cape Town',\n",
       " 'Nelson Mandela Bay',\n",
       " 'Pretoria',\n",
       " 'Durban',\n",
       " 'Bisho',\n",
       " 'Mbombela',\n",
       " 'Bloemfontein',\n",
       " 'Kimberley',\n",
       " 'Polokwane']"
      ]
     },
     "execution_count": 31,
     "metadata": {},
     "output_type": "execute_result"
    }
   ],
   "source": [
    "cities_sa*3"
   ]
  },
  {
   "cell_type": "markdown",
   "metadata": {
    "colab_type": "text",
    "deletable": true,
    "editable": true,
    "id": "M1fOCkM-15J-"
   },
   "source": [
    "### Addition"
   ]
  },
  {
   "cell_type": "code",
   "execution_count": 32,
   "metadata": {
    "colab": {
     "autoexec": {
      "startup": false,
      "wait_interval": 0
     }
    },
    "colab_type": "code",
    "collapsed": true,
    "deletable": true,
    "editable": true,
    "id": "Qyl51nvL1m4Q"
   },
   "outputs": [],
   "source": [
    "cities_namibia = [\"Windhoek\", \"Walvis Bay\", \"Swakopmund\", \"Otjiwarongo\", \"Okahandja\", \"Keetmanshoop\", \"Tsumeb\", \"Gobabis\", \"Grootfontein\", \"Mariental\", \"Outjo\", \"Omaruru\", \"Henties Bay\"]"
   ]
  },
  {
   "cell_type": "code",
   "execution_count": 33,
   "metadata": {
    "colab": {
     "autoexec": {
      "startup": false,
      "wait_interval": 0
     },
     "base_uri": "https://localhost:8080/",
     "height": 416,
     "output_extras": [
      {
       "item_id": 1
      }
     ]
    },
    "colab_type": "code",
    "collapsed": false,
    "deletable": true,
    "editable": true,
    "executionInfo": {
     "elapsed": 934,
     "status": "ok",
     "timestamp": 1521730903632,
     "user": {
      "displayName": "Rayno Mostert",
      "photoUrl": "https://lh3.googleusercontent.com/a/default-user=s128",
      "userId": "107056986412592388577"
     },
     "user_tz": -120
    },
    "id": "4RB6iWmM2nhC",
    "outputId": "0278387d-b81e-4889-eb13-1b63b2d0c7ae"
   },
   "outputs": [
    {
     "data": {
      "text/plain": [
       "['Johannesburg',\n",
       " 'Cape Town',\n",
       " 'Nelson Mandela Bay',\n",
       " 'Pretoria',\n",
       " 'Durban',\n",
       " 'Bisho',\n",
       " 'Mbombela',\n",
       " 'Bloemfontein',\n",
       " 'Kimberley',\n",
       " 'Polokwane',\n",
       " 'Windhoek',\n",
       " 'Walvis Bay',\n",
       " 'Swakopmund',\n",
       " 'Otjiwarongo',\n",
       " 'Okahandja',\n",
       " 'Keetmanshoop',\n",
       " 'Tsumeb',\n",
       " 'Gobabis',\n",
       " 'Grootfontein',\n",
       " 'Mariental',\n",
       " 'Outjo',\n",
       " 'Omaruru',\n",
       " 'Henties Bay']"
      ]
     },
     "execution_count": 33,
     "metadata": {},
     "output_type": "execute_result"
    }
   ],
   "source": [
    "cities_sa + cities_namibia"
   ]
  },
  {
   "cell_type": "markdown",
   "metadata": {
    "colab_type": "text",
    "deletable": true,
    "editable": true,
    "id": "e2kVah__8hTi"
   },
   "source": [
    "### Append\n",
    "`list.`**`append`**`(item)`\n",
    "\n",
    "`Append(item)` adds the item to the end of the list."
   ]
  },
  {
   "cell_type": "code",
   "execution_count": 34,
   "metadata": {
    "colab": {
     "autoexec": {
      "startup": false,
      "wait_interval": 0
     },
     "base_uri": "https://localhost:8080/",
     "height": 243,
     "output_extras": [
      {
       "item_id": 1
      }
     ]
    },
    "colab_type": "code",
    "collapsed": false,
    "deletable": true,
    "editable": true,
    "executionInfo": {
     "elapsed": 1032,
     "status": "ok",
     "timestamp": 1521730905006,
     "user": {
      "displayName": "Rayno Mostert",
      "photoUrl": "https://lh3.googleusercontent.com/a/default-user=s128",
      "userId": "107056986412592388577"
     },
     "user_tz": -120
    },
    "id": "n0Y0FTL68qmq",
    "outputId": "079e728c-eaec-49a9-faea-9fe0eb124166"
   },
   "outputs": [
    {
     "data": {
      "text/plain": [
       "['Windhoek',\n",
       " 'Walvis Bay',\n",
       " 'Swakopmund',\n",
       " 'Otjiwarongo',\n",
       " 'Okahandja',\n",
       " 'Keetmanshoop',\n",
       " 'Tsumeb',\n",
       " 'Gobabis',\n",
       " 'Grootfontein',\n",
       " 'Mariental',\n",
       " 'Outjo',\n",
       " 'Omaruru',\n",
       " 'Henties Bay']"
      ]
     },
     "execution_count": 34,
     "metadata": {},
     "output_type": "execute_result"
    }
   ],
   "source": [
    "cities_namibia"
   ]
  },
  {
   "cell_type": "markdown",
   "metadata": {
    "colab_type": "text",
    "deletable": true,
    "editable": true,
    "id": "J2_6NiHS_23e"
   },
   "source": [
    "Let's add a smaller towns to the `cities_namibia` list:"
   ]
  },
  {
   "cell_type": "code",
   "execution_count": 35,
   "metadata": {
    "colab": {
     "autoexec": {
      "startup": false,
      "wait_interval": 0
     }
    },
    "colab_type": "code",
    "collapsed": true,
    "deletable": true,
    "editable": true,
    "id": "st7FZjxAADSg"
   },
   "outputs": [],
   "source": [
    "cities_namibia.append('Okakarara')\n",
    "cities_namibia.append('Karasburg')\n",
    "cities_namibia.append('Oranjemund')"
   ]
  },
  {
   "cell_type": "code",
   "execution_count": 36,
   "metadata": {
    "colab": {
     "autoexec": {
      "startup": false,
      "wait_interval": 0
     },
     "base_uri": "https://localhost:8080/",
     "height": 295,
     "output_extras": [
      {
       "item_id": 1
      }
     ]
    },
    "colab_type": "code",
    "collapsed": false,
    "deletable": true,
    "editable": true,
    "executionInfo": {
     "elapsed": 912,
     "status": "ok",
     "timestamp": 1521730907362,
     "user": {
      "displayName": "Rayno Mostert",
      "photoUrl": "https://lh3.googleusercontent.com/a/default-user=s128",
      "userId": "107056986412592388577"
     },
     "user_tz": -120
    },
    "id": "50aw9BTlAKHW",
    "outputId": "1699fb91-5dc8-4b1c-87f9-89f8416bed69"
   },
   "outputs": [
    {
     "data": {
      "text/plain": [
       "['Windhoek',\n",
       " 'Walvis Bay',\n",
       " 'Swakopmund',\n",
       " 'Otjiwarongo',\n",
       " 'Okahandja',\n",
       " 'Keetmanshoop',\n",
       " 'Tsumeb',\n",
       " 'Gobabis',\n",
       " 'Grootfontein',\n",
       " 'Mariental',\n",
       " 'Outjo',\n",
       " 'Omaruru',\n",
       " 'Henties Bay',\n",
       " 'Okakarara',\n",
       " 'Karasburg',\n",
       " 'Oranjemund']"
      ]
     },
     "execution_count": 36,
     "metadata": {},
     "output_type": "execute_result"
    }
   ],
   "source": [
    "cities_namibia"
   ]
  },
  {
   "cell_type": "markdown",
   "metadata": {
    "colab_type": "text",
    "deletable": true,
    "editable": true,
    "id": "fHlr4ECuBVsg"
   },
   "source": [
    "### Insert\n",
    "`list.`**`insert`**`(index, item)`\n",
    "\n",
    "`Insert(index, item)` inserts the `item` at the `index`."
   ]
  },
  {
   "cell_type": "code",
   "execution_count": 37,
   "metadata": {
    "colab": {
     "autoexec": {
      "startup": false,
      "wait_interval": 0
     },
     "base_uri": "https://localhost:8080/",
     "height": 295,
     "output_extras": [
      {
       "item_id": 1
      }
     ]
    },
    "colab_type": "code",
    "collapsed": false,
    "deletable": true,
    "editable": true,
    "executionInfo": {
     "elapsed": 994,
     "status": "ok",
     "timestamp": 1521730908826,
     "user": {
      "displayName": "Rayno Mostert",
      "photoUrl": "https://lh3.googleusercontent.com/a/default-user=s128",
      "userId": "107056986412592388577"
     },
     "user_tz": -120
    },
    "id": "kVrK38knBVs0",
    "outputId": "4b43e3ea-6aa0-453b-fca3-d630d6dad68a"
   },
   "outputs": [
    {
     "data": {
      "text/plain": [
       "['Windhoek',\n",
       " 'Walvis Bay',\n",
       " 'Swakopmund',\n",
       " 'Otjiwarongo',\n",
       " 'Okahandja',\n",
       " 'Keetmanshoop',\n",
       " 'Tsumeb',\n",
       " 'Gobabis',\n",
       " 'Grootfontein',\n",
       " 'Mariental',\n",
       " 'Outjo',\n",
       " 'Omaruru',\n",
       " 'Henties Bay',\n",
       " 'Okakarara',\n",
       " 'Karasburg',\n",
       " 'Oranjemund']"
      ]
     },
     "execution_count": 37,
     "metadata": {},
     "output_type": "execute_result"
    }
   ],
   "source": [
    "cities_namibia"
   ]
  },
  {
   "cell_type": "markdown",
   "metadata": {
    "colab_type": "text",
    "deletable": true,
    "editable": true,
    "id": "jtLAm-0DBVtK"
   },
   "source": [
    "Let's insert a few large towns that we forgot about to the `cities_namibia` list:"
   ]
  },
  {
   "cell_type": "code",
   "execution_count": 38,
   "metadata": {
    "colab": {
     "autoexec": {
      "startup": false,
      "wait_interval": 0
     }
    },
    "colab_type": "code",
    "collapsed": true,
    "deletable": true,
    "editable": true,
    "id": "wV8wdBnrBVtM"
   },
   "outputs": [],
   "source": [
    "cities_namibia.insert(1, 'Rundu')\n",
    "cities_namibia.insert(3, 'Oshakati')\n",
    "cities_namibia.insert(6, 'Rehoboth')"
   ]
  },
  {
   "cell_type": "code",
   "execution_count": 39,
   "metadata": {
    "colab": {
     "autoexec": {
      "startup": false,
      "wait_interval": 0
     },
     "base_uri": "https://localhost:8080/",
     "height": 347,
     "output_extras": [
      {
       "item_id": 1
      }
     ]
    },
    "colab_type": "code",
    "collapsed": false,
    "deletable": true,
    "editable": true,
    "executionInfo": {
     "elapsed": 816,
     "status": "ok",
     "timestamp": 1521730911060,
     "user": {
      "displayName": "Rayno Mostert",
      "photoUrl": "https://lh3.googleusercontent.com/a/default-user=s128",
      "userId": "107056986412592388577"
     },
     "user_tz": -120
    },
    "id": "6Qef5gRrBVtS",
    "outputId": "5062f839-561f-41ec-9cea-ca03789bc4c5"
   },
   "outputs": [
    {
     "data": {
      "text/plain": [
       "['Windhoek',\n",
       " 'Rundu',\n",
       " 'Walvis Bay',\n",
       " 'Oshakati',\n",
       " 'Swakopmund',\n",
       " 'Otjiwarongo',\n",
       " 'Rehoboth',\n",
       " 'Okahandja',\n",
       " 'Keetmanshoop',\n",
       " 'Tsumeb',\n",
       " 'Gobabis',\n",
       " 'Grootfontein',\n",
       " 'Mariental',\n",
       " 'Outjo',\n",
       " 'Omaruru',\n",
       " 'Henties Bay',\n",
       " 'Okakarara',\n",
       " 'Karasburg',\n",
       " 'Oranjemund']"
      ]
     },
     "execution_count": 39,
     "metadata": {},
     "output_type": "execute_result"
    }
   ],
   "source": [
    "cities_namibia"
   ]
  },
  {
   "cell_type": "markdown",
   "metadata": {
    "colab_type": "text",
    "deletable": true,
    "editable": true,
    "id": "2kW8ktSFDR5c"
   },
   "source": [
    "### Index\n",
    "`list.`**`index`**`(item)`\n",
    "\n",
    "`Index(item)` finds the `item` in the list and `return`s the item."
   ]
  },
  {
   "cell_type": "code",
   "execution_count": 40,
   "metadata": {
    "colab": {
     "autoexec": {
      "startup": false,
      "wait_interval": 0
     },
     "base_uri": "https://localhost:8080/",
     "height": 347,
     "output_extras": [
      {
       "item_id": 1
      }
     ]
    },
    "colab_type": "code",
    "collapsed": false,
    "deletable": true,
    "editable": true,
    "executionInfo": {
     "elapsed": 876,
     "status": "ok",
     "timestamp": 1521730912154,
     "user": {
      "displayName": "Rayno Mostert",
      "photoUrl": "https://lh3.googleusercontent.com/a/default-user=s128",
      "userId": "107056986412592388577"
     },
     "user_tz": -120
    },
    "id": "sJDgD6zoDR5k",
    "outputId": "9e254b24-8c1a-487b-9fe0-7a00d73c15a3"
   },
   "outputs": [
    {
     "data": {
      "text/plain": [
       "['Windhoek',\n",
       " 'Rundu',\n",
       " 'Walvis Bay',\n",
       " 'Oshakati',\n",
       " 'Swakopmund',\n",
       " 'Otjiwarongo',\n",
       " 'Rehoboth',\n",
       " 'Okahandja',\n",
       " 'Keetmanshoop',\n",
       " 'Tsumeb',\n",
       " 'Gobabis',\n",
       " 'Grootfontein',\n",
       " 'Mariental',\n",
       " 'Outjo',\n",
       " 'Omaruru',\n",
       " 'Henties Bay',\n",
       " 'Okakarara',\n",
       " 'Karasburg',\n",
       " 'Oranjemund']"
      ]
     },
     "execution_count": 40,
     "metadata": {},
     "output_type": "execute_result"
    }
   ],
   "source": [
    "cities_namibia"
   ]
  },
  {
   "cell_type": "markdown",
   "metadata": {
    "colab_type": "text",
    "deletable": true,
    "editable": true,
    "id": "YvEuv5BvDR58"
   },
   "source": [
    "Let's find the index of `Walvis Bay` in `cities_namibia`:"
   ]
  },
  {
   "cell_type": "code",
   "execution_count": 41,
   "metadata": {
    "colab": {
     "autoexec": {
      "startup": false,
      "wait_interval": 0
     },
     "base_uri": "https://localhost:8080/",
     "height": 34,
     "output_extras": [
      {
       "item_id": 1
      }
     ]
    },
    "colab_type": "code",
    "collapsed": false,
    "deletable": true,
    "editable": true,
    "executionInfo": {
     "elapsed": 780,
     "status": "ok",
     "timestamp": 1521730913338,
     "user": {
      "displayName": "Rayno Mostert",
      "photoUrl": "https://lh3.googleusercontent.com/a/default-user=s128",
      "userId": "107056986412592388577"
     },
     "user_tz": -120
    },
    "id": "7yI5JLOJDR5-",
    "outputId": "11956ace-12be-4c73-b679-4bb31ddbf812"
   },
   "outputs": [
    {
     "data": {
      "text/plain": [
       "2"
      ]
     },
     "execution_count": 41,
     "metadata": {},
     "output_type": "execute_result"
    }
   ],
   "source": [
    "cities_namibia.index('Walvis Bay')"
   ]
  },
  {
   "cell_type": "markdown",
   "metadata": {
    "colab_type": "text",
    "deletable": true,
    "editable": true,
    "id": "xS6R2c8-DyI4"
   },
   "source": [
    "That means `Walvis Bay` is the 3rd item (2 + 1) in the `cities_namibia` list."
   ]
  },
  {
   "cell_type": "code",
   "execution_count": 42,
   "metadata": {
    "colab": {
     "autoexec": {
      "startup": false,
      "wait_interval": 0
     },
     "base_uri": "https://localhost:8080/",
     "height": 34,
     "output_extras": [
      {
       "item_id": 1
      }
     ]
    },
    "colab_type": "code",
    "collapsed": false,
    "deletable": true,
    "editable": true,
    "executionInfo": {
     "elapsed": 790,
     "status": "ok",
     "timestamp": 1521730914386,
     "user": {
      "displayName": "Rayno Mostert",
      "photoUrl": "https://lh3.googleusercontent.com/a/default-user=s128",
      "userId": "107056986412592388577"
     },
     "user_tz": -120
    },
    "id": "7d2vmVa6DR6G",
    "outputId": "292effc6-1006-4d2c-b062-bfa664eba9b7"
   },
   "outputs": [
    {
     "data": {
      "text/plain": [
       "0"
      ]
     },
     "execution_count": 42,
     "metadata": {},
     "output_type": "execute_result"
    }
   ],
   "source": [
    "cities_namibia.index('Windhoek')"
   ]
  },
  {
   "cell_type": "code",
   "execution_count": 43,
   "metadata": {
    "colab": {
     "autoexec": {
      "startup": false,
      "wait_interval": 0
     },
     "base_uri": "https://localhost:8080/",
     "height": 34,
     "output_extras": [
      {
       "item_id": 1
      }
     ]
    },
    "colab_type": "code",
    "collapsed": false,
    "deletable": true,
    "editable": true,
    "executionInfo": {
     "elapsed": 880,
     "status": "ok",
     "timestamp": 1521730915640,
     "user": {
      "displayName": "Rayno Mostert",
      "photoUrl": "https://lh3.googleusercontent.com/a/default-user=s128",
      "userId": "107056986412592388577"
     },
     "user_tz": -120
    },
    "id": "T9XIIMmID7r6",
    "outputId": "b559c354-97df-4b9f-a48b-920c330e4a59"
   },
   "outputs": [
    {
     "data": {
      "text/plain": [
       "12"
      ]
     },
     "execution_count": 43,
     "metadata": {},
     "output_type": "execute_result"
    }
   ],
   "source": [
    "cities_namibia.index('Mariental')"
   ]
  },
  {
   "cell_type": "markdown",
   "metadata": {
    "colab_type": "text",
    "deletable": true,
    "editable": true,
    "id": "U5SiCfb7EHDa"
   },
   "source": [
    "### Remove\n",
    "`list.`**`remove`**`(item)`\n",
    "\n",
    "`Remove(item)` finds the `item` and removes it from the list."
   ]
  },
  {
   "cell_type": "code",
   "execution_count": 44,
   "metadata": {
    "colab": {
     "autoexec": {
      "startup": false,
      "wait_interval": 0
     },
     "base_uri": "https://localhost:8080/",
     "height": 347,
     "output_extras": [
      {
       "item_id": 1
      }
     ]
    },
    "colab_type": "code",
    "collapsed": false,
    "deletable": true,
    "editable": true,
    "executionInfo": {
     "elapsed": 914,
     "status": "ok",
     "timestamp": 1521730916728,
     "user": {
      "displayName": "Rayno Mostert",
      "photoUrl": "https://lh3.googleusercontent.com/a/default-user=s128",
      "userId": "107056986412592388577"
     },
     "user_tz": -120
    },
    "id": "AV-nUgMrEHDg",
    "outputId": "fbb2ebda-3482-4660-fcd4-813b4c043e0d"
   },
   "outputs": [
    {
     "data": {
      "text/plain": [
       "['Windhoek',\n",
       " 'Rundu',\n",
       " 'Walvis Bay',\n",
       " 'Oshakati',\n",
       " 'Swakopmund',\n",
       " 'Otjiwarongo',\n",
       " 'Rehoboth',\n",
       " 'Okahandja',\n",
       " 'Keetmanshoop',\n",
       " 'Tsumeb',\n",
       " 'Gobabis',\n",
       " 'Grootfontein',\n",
       " 'Mariental',\n",
       " 'Outjo',\n",
       " 'Omaruru',\n",
       " 'Henties Bay',\n",
       " 'Okakarara',\n",
       " 'Karasburg',\n",
       " 'Oranjemund']"
      ]
     },
     "execution_count": 44,
     "metadata": {},
     "output_type": "execute_result"
    }
   ],
   "source": [
    "cities_namibia"
   ]
  },
  {
   "cell_type": "markdown",
   "metadata": {
    "colab_type": "text",
    "deletable": true,
    "editable": true,
    "id": "wHkpcdiUEHDy"
   },
   "source": [
    "Let's say we need to remove `Oranjemund`, since - with a population of abour 4000 people - it certainly doesn't constitute a \"city\".\n",
    "\n",
    "We could just do:"
   ]
  },
  {
   "cell_type": "code",
   "execution_count": 45,
   "metadata": {
    "colab": {
     "autoexec": {
      "startup": false,
      "wait_interval": 0
     }
    },
    "colab_type": "code",
    "collapsed": true,
    "deletable": true,
    "editable": true,
    "id": "K3mD69ASEHD0"
   },
   "outputs": [],
   "source": [
    "cities_namibia.remove('Oranjemund')"
   ]
  },
  {
   "cell_type": "markdown",
   "metadata": {
    "colab_type": "text",
    "deletable": true,
    "editable": true,
    "id": "wkqBPPoWEjvY"
   },
   "source": [
    "Now looking at the cities, we won't find Oranjemund:"
   ]
  },
  {
   "cell_type": "code",
   "execution_count": 46,
   "metadata": {
    "colab": {
     "autoexec": {
      "startup": false,
      "wait_interval": 0
     },
     "base_uri": "https://localhost:8080/",
     "height": 330,
     "output_extras": [
      {
       "item_id": 1
      }
     ]
    },
    "colab_type": "code",
    "collapsed": false,
    "deletable": true,
    "editable": true,
    "executionInfo": {
     "elapsed": 848,
     "status": "ok",
     "timestamp": 1521730918910,
     "user": {
      "displayName": "Rayno Mostert",
      "photoUrl": "https://lh3.googleusercontent.com/a/default-user=s128",
      "userId": "107056986412592388577"
     },
     "user_tz": -120
    },
    "id": "_nNAwAyIEi6-",
    "outputId": "08fa2352-b92d-49d2-c9df-04174a326a02"
   },
   "outputs": [
    {
     "data": {
      "text/plain": [
       "['Windhoek',\n",
       " 'Rundu',\n",
       " 'Walvis Bay',\n",
       " 'Oshakati',\n",
       " 'Swakopmund',\n",
       " 'Otjiwarongo',\n",
       " 'Rehoboth',\n",
       " 'Okahandja',\n",
       " 'Keetmanshoop',\n",
       " 'Tsumeb',\n",
       " 'Gobabis',\n",
       " 'Grootfontein',\n",
       " 'Mariental',\n",
       " 'Outjo',\n",
       " 'Omaruru',\n",
       " 'Henties Bay',\n",
       " 'Okakarara',\n",
       " 'Karasburg']"
      ]
     },
     "execution_count": 46,
     "metadata": {},
     "output_type": "execute_result"
    }
   ],
   "source": [
    "cities_namibia"
   ]
  },
  {
   "cell_type": "markdown",
   "metadata": {
    "colab_type": "text",
    "deletable": true,
    "editable": true,
    "id": "cJm7QRbyEtqU"
   },
   "source": [
    "Let's do the same for Karasburg (only about 4 400 people) and Okakarara (about 4 700 people):"
   ]
  },
  {
   "cell_type": "code",
   "execution_count": 47,
   "metadata": {
    "colab": {
     "autoexec": {
      "startup": false,
      "wait_interval": 0
     }
    },
    "colab_type": "code",
    "collapsed": true,
    "deletable": true,
    "editable": true,
    "id": "ZP94bW7tEHEA"
   },
   "outputs": [],
   "source": [
    "cities_namibia.remove('Karasburg')\n",
    "cities_namibia.remove('Okakarara')"
   ]
  },
  {
   "cell_type": "code",
   "execution_count": 48,
   "metadata": {
    "colab": {
     "autoexec": {
      "startup": false,
      "wait_interval": 0
     },
     "base_uri": "https://localhost:8080/",
     "height": 295,
     "output_extras": [
      {
       "item_id": 1
      }
     ]
    },
    "colab_type": "code",
    "collapsed": false,
    "deletable": true,
    "editable": true,
    "executionInfo": {
     "elapsed": 802,
     "status": "ok",
     "timestamp": 1521730921214,
     "user": {
      "displayName": "Rayno Mostert",
      "photoUrl": "https://lh3.googleusercontent.com/a/default-user=s128",
      "userId": "107056986412592388577"
     },
     "user_tz": -120
    },
    "id": "pwFwNzYUEHEK",
    "outputId": "48da1436-b7ff-4efc-a436-7ff67f654869"
   },
   "outputs": [
    {
     "data": {
      "text/plain": [
       "['Windhoek',\n",
       " 'Rundu',\n",
       " 'Walvis Bay',\n",
       " 'Oshakati',\n",
       " 'Swakopmund',\n",
       " 'Otjiwarongo',\n",
       " 'Rehoboth',\n",
       " 'Okahandja',\n",
       " 'Keetmanshoop',\n",
       " 'Tsumeb',\n",
       " 'Gobabis',\n",
       " 'Grootfontein',\n",
       " 'Mariental',\n",
       " 'Outjo',\n",
       " 'Omaruru',\n",
       " 'Henties Bay']"
      ]
     },
     "execution_count": 48,
     "metadata": {},
     "output_type": "execute_result"
    }
   ],
   "source": [
    "cities_namibia"
   ]
  },
  {
   "cell_type": "markdown",
   "metadata": {
    "colab_type": "text",
    "deletable": true,
    "editable": true,
    "id": "r4lXi0wUFDwI"
   },
   "source": [
    "### Reverse\n",
    "We can also reverse the order of a list by simply doing **`list.reverse()`**:"
   ]
  },
  {
   "cell_type": "code",
   "execution_count": 49,
   "metadata": {
    "colab": {
     "autoexec": {
      "startup": false,
      "wait_interval": 0
     }
    },
    "colab_type": "code",
    "collapsed": true,
    "deletable": true,
    "editable": true,
    "id": "jEuuX-l7E7Yy"
   },
   "outputs": [],
   "source": [
    "cities_namibia.reverse()"
   ]
  },
  {
   "cell_type": "code",
   "execution_count": 50,
   "metadata": {
    "colab": {
     "autoexec": {
      "startup": false,
      "wait_interval": 0
     },
     "base_uri": "https://localhost:8080/",
     "height": 295,
     "output_extras": [
      {
       "item_id": 1
      }
     ]
    },
    "colab_type": "code",
    "collapsed": false,
    "deletable": true,
    "editable": true,
    "executionInfo": {
     "elapsed": 810,
     "status": "ok",
     "timestamp": 1521730923394,
     "user": {
      "displayName": "Rayno Mostert",
      "photoUrl": "https://lh3.googleusercontent.com/a/default-user=s128",
      "userId": "107056986412592388577"
     },
     "user_tz": -120
    },
    "id": "WMbSJwXRFOZe",
    "outputId": "2f92d703-adc2-4c4d-96b9-21a8db565742"
   },
   "outputs": [
    {
     "data": {
      "text/plain": [
       "['Henties Bay',\n",
       " 'Omaruru',\n",
       " 'Outjo',\n",
       " 'Mariental',\n",
       " 'Grootfontein',\n",
       " 'Gobabis',\n",
       " 'Tsumeb',\n",
       " 'Keetmanshoop',\n",
       " 'Okahandja',\n",
       " 'Rehoboth',\n",
       " 'Otjiwarongo',\n",
       " 'Swakopmund',\n",
       " 'Oshakati',\n",
       " 'Walvis Bay',\n",
       " 'Rundu',\n",
       " 'Windhoek']"
      ]
     },
     "execution_count": 50,
     "metadata": {},
     "output_type": "execute_result"
    }
   ],
   "source": [
    "cities_namibia"
   ]
  },
  {
   "cell_type": "markdown",
   "metadata": {
    "colab_type": "text",
    "deletable": true,
    "editable": true,
    "id": "1iKIW9_ZG4fM"
   },
   "source": [
    "### Slicing\n",
    "Another really list powerful operation in Python is called `slicing`.  It's used to get a **more than one** item from a list."
   ]
  },
  {
   "cell_type": "markdown",
   "metadata": {
    "colab_type": "text",
    "deletable": true,
    "editable": true,
    "id": "Ko0YELoOLmdK"
   },
   "source": [
    "Using our `['a', 'b', 'c', 'd', 'e', 'f', 'g']` example again:"
   ]
  },
  {
   "cell_type": "markdown",
   "metadata": {
    "colab_type": "text",
    "deletable": true,
    "editable": true,
    "id": "tpuxRhjyLvO-"
   },
   "source": [
    "![slicing](https://raw.githubusercontent.com/Explore-AI/Public-Data/master/list_slicing.png)"
   ]
  },
  {
   "cell_type": "code",
   "execution_count": 51,
   "metadata": {
    "colab": {
     "autoexec": {
      "startup": false,
      "wait_interval": 0
     }
    },
    "colab_type": "code",
    "collapsed": true,
    "deletable": true,
    "editable": true,
    "id": "z0fySOdsMEJk"
   },
   "outputs": [],
   "source": [
    "alpha = ['a', 'b', 'c', 'd', 'e', 'f', 'g']"
   ]
  },
  {
   "cell_type": "markdown",
   "metadata": {
    "colab_type": "text",
    "deletable": true,
    "editable": true,
    "id": "Ks_qwaOlL0Ig"
   },
   "source": [
    "To get b, c and d, we'll need to use slicing on `alpha` (indices 1 to 3):"
   ]
  },
  {
   "cell_type": "code",
   "execution_count": 52,
   "metadata": {
    "colab": {
     "autoexec": {
      "startup": false,
      "wait_interval": 0
     },
     "base_uri": "https://localhost:8080/",
     "height": 34,
     "output_extras": [
      {
       "item_id": 1
      }
     ]
    },
    "colab_type": "code",
    "collapsed": false,
    "deletable": true,
    "editable": true,
    "executionInfo": {
     "elapsed": 976,
     "status": "ok",
     "timestamp": 1521730925424,
     "user": {
      "displayName": "Rayno Mostert",
      "photoUrl": "https://lh3.googleusercontent.com/a/default-user=s128",
      "userId": "107056986412592388577"
     },
     "user_tz": -120
    },
    "id": "6F6ZaIoDHEnE",
    "outputId": "ddef02ff-ea16-4df6-e545-cbccc5169915"
   },
   "outputs": [
    {
     "data": {
      "text/plain": [
       "['b', 'c', 'd']"
      ]
     },
     "execution_count": 52,
     "metadata": {},
     "output_type": "execute_result"
    }
   ],
   "source": [
    "alpha[1:4]"
   ]
  },
  {
   "cell_type": "markdown",
   "metadata": {
    "colab_type": "text",
    "deletable": true,
    "editable": true,
    "id": "_045I-1PO14W"
   },
   "source": [
    "Back with our Namibian cities, if we want to get the first 3 cities, we can do:"
   ]
  },
  {
   "cell_type": "code",
   "execution_count": 53,
   "metadata": {
    "colab": {
     "autoexec": {
      "startup": false,
      "wait_interval": 0
     },
     "base_uri": "https://localhost:8080/",
     "height": 34,
     "output_extras": [
      {
       "item_id": 1
      }
     ]
    },
    "colab_type": "code",
    "collapsed": false,
    "deletable": true,
    "editable": true,
    "executionInfo": {
     "elapsed": 918,
     "status": "ok",
     "timestamp": 1521730972996,
     "user": {
      "displayName": "Rayno Mostert",
      "photoUrl": "https://lh3.googleusercontent.com/a/default-user=s128",
      "userId": "107056986412592388577"
     },
     "user_tz": -120
    },
    "id": "A600nfJkMJeg",
    "outputId": "72350b53-2772-4e44-dcbf-d3e2e3e33d33"
   },
   "outputs": [
    {
     "data": {
      "text/plain": [
       "['Henties Bay', 'Omaruru', 'Outjo']"
      ]
     },
     "execution_count": 53,
     "metadata": {},
     "output_type": "execute_result"
    }
   ],
   "source": [
    "cities_namibia[0:3]"
   ]
  },
  {
   "cell_type": "markdown",
   "metadata": {
    "colab_type": "text",
    "deletable": true,
    "editable": true,
    "id": "vOwM0P-IPA4e"
   },
   "source": [
    "We can omit the zero in this case, and it would work equally well:"
   ]
  },
  {
   "cell_type": "code",
   "execution_count": 54,
   "metadata": {
    "colab": {
     "autoexec": {
      "startup": false,
      "wait_interval": 0
     },
     "base_uri": "https://localhost:8080/",
     "height": 34,
     "output_extras": [
      {
       "item_id": 1
      }
     ]
    },
    "colab_type": "code",
    "collapsed": false,
    "deletable": true,
    "editable": true,
    "executionInfo": {
     "elapsed": 1126,
     "status": "ok",
     "timestamp": 1521731059624,
     "user": {
      "displayName": "Rayno Mostert",
      "photoUrl": "https://lh3.googleusercontent.com/a/default-user=s128",
      "userId": "107056986412592388577"
     },
     "user_tz": -120
    },
    "id": "rr5I4VHZPShe",
    "outputId": "158538fe-29c3-4ab5-847b-2159cbed8e2b"
   },
   "outputs": [
    {
     "data": {
      "text/plain": [
       "['Henties Bay', 'Omaruru', 'Outjo']"
      ]
     },
     "execution_count": 54,
     "metadata": {},
     "output_type": "execute_result"
    }
   ],
   "source": [
    "cities_namibia[:3]"
   ]
  },
  {
   "cell_type": "markdown",
   "metadata": {
    "colab_type": "text",
    "deletable": true,
    "editable": true,
    "id": "YvL2cQAyPU96"
   },
   "source": [
    "Remember the negative indices introduced at the top of this tutorial? (Where we use -1 to indicate the last item, -2 the second last, etc.)\n",
    "\n",
    "We can apply it to slicing too!  So to get the last 3 cities in `cities_namibia`, we can write:"
   ]
  },
  {
   "cell_type": "code",
   "execution_count": 55,
   "metadata": {
    "colab": {
     "autoexec": {
      "startup": false,
      "wait_interval": 0
     },
     "base_uri": "https://localhost:8080/",
     "height": 34,
     "output_extras": [
      {
       "item_id": 1
      }
     ]
    },
    "colab_type": "code",
    "collapsed": false,
    "deletable": true,
    "editable": true,
    "executionInfo": {
     "elapsed": 898,
     "status": "ok",
     "timestamp": 1521731139098,
     "user": {
      "displayName": "Rayno Mostert",
      "photoUrl": "https://lh3.googleusercontent.com/a/default-user=s128",
      "userId": "107056986412592388577"
     },
     "user_tz": -120
    },
    "id": "3WnFaLDvPTqA",
    "outputId": "7e8c2e3c-06b1-4722-8a4d-776c265d9172"
   },
   "outputs": [
    {
     "data": {
      "text/plain": [
       "['Walvis Bay', 'Rundu', 'Windhoek']"
      ]
     },
     "execution_count": 55,
     "metadata": {},
     "output_type": "execute_result"
    }
   ],
   "source": [
    "cities_namibia[-3:]"
   ]
  },
  {
   "cell_type": "markdown",
   "metadata": {
    "colab_type": "text",
    "deletable": true,
    "editable": true,
    "id": "GwKOQ12uZafs"
   },
   "source": [
    "### Range\n",
    "**`range(start, stop, step)`**<br>\n",
    "We often might want to quickly create an array containing some consequtive pattern of values.  In Python we can use **`range()`** to accomplish this."
   ]
  },
  {
   "cell_type": "code",
   "execution_count": 56,
   "metadata": {
    "colab": {
     "autoexec": {
      "startup": false,
      "wait_interval": 0
     },
     "base_uri": "https://localhost:8080/",
     "height": 34,
     "output_extras": [
      {
       "item_id": 1
      }
     ]
    },
    "colab_type": "code",
    "collapsed": false,
    "deletable": true,
    "editable": true,
    "executionInfo": {
     "elapsed": 880,
     "status": "ok",
     "timestamp": 1521735747652,
     "user": {
      "displayName": "Rayno Mostert",
      "photoUrl": "https://lh3.googleusercontent.com/a/default-user=s128",
      "userId": "107056986412592388577"
     },
     "user_tz": -120
    },
    "id": "q1JitvsdZbK-",
    "outputId": "6f60e726-d8a0-4aeb-d609-f1b5b494f829"
   },
   "outputs": [
    {
     "data": {
      "text/plain": [
       "[0, 1, 2, 3]"
      ]
     },
     "execution_count": 56,
     "metadata": {},
     "output_type": "execute_result"
    }
   ],
   "source": [
    "list(range(4))"
   ]
  },
  {
   "cell_type": "markdown",
   "metadata": {
    "colab_type": "text",
    "deletable": true,
    "editable": true,
    "id": "p4ceH4-oa5mU"
   },
   "source": [
    "You can even specify a **`start`**, **`stop`** and a **`step`**.\n",
    "For example, if we want all the even numbers between `20` and `40`, we can do:"
   ]
  },
  {
   "cell_type": "code",
   "execution_count": 57,
   "metadata": {
    "colab": {
     "autoexec": {
      "startup": false,
      "wait_interval": 0
     },
     "base_uri": "https://localhost:8080/",
     "height": 34,
     "output_extras": [
      {
       "item_id": 1
      }
     ]
    },
    "colab_type": "code",
    "collapsed": false,
    "deletable": true,
    "editable": true,
    "executionInfo": {
     "elapsed": 896,
     "status": "ok",
     "timestamp": 1521735754220,
     "user": {
      "displayName": "Rayno Mostert",
      "photoUrl": "https://lh3.googleusercontent.com/a/default-user=s128",
      "userId": "107056986412592388577"
     },
     "user_tz": -120
    },
    "id": "RdGNErkpai3G",
    "outputId": "b136144a-fe54-42ad-8fa9-a67888192a96"
   },
   "outputs": [
    {
     "data": {
      "text/plain": [
       "[20, 22, 24, 26, 28, 30, 32, 34, 36, 38]"
      ]
     },
     "execution_count": 57,
     "metadata": {},
     "output_type": "execute_result"
    }
   ],
   "source": [
    "list(range(20, 40, 2))"
   ]
  },
  {
   "cell_type": "markdown",
   "metadata": {
    "colab_type": "text",
    "deletable": true,
    "editable": true,
    "id": "dN9DRFQlbfRo"
   },
   "source": [
    "It's important to note what ` range(20, 40, 2) ` does.  It asks Python to create a list, starting with the number `20`, adding sequential values to the list in increments of `2`, and stopping before it gets to `40`. \n",
    "\n",
    "<br>\n",
    "\n",
    "Another example:"
   ]
  },
  {
   "cell_type": "code",
   "execution_count": 58,
   "metadata": {
    "colab": {
     "autoexec": {
      "startup": false,
      "wait_interval": 0
     },
     "base_uri": "https://localhost:8080/",
     "height": 34,
     "output_extras": [
      {
       "item_id": 1
      }
     ]
    },
    "colab_type": "code",
    "collapsed": false,
    "deletable": true,
    "editable": true,
    "executionInfo": {
     "elapsed": 1000,
     "status": "ok",
     "timestamp": 1521735759634,
     "user": {
      "displayName": "Rayno Mostert",
      "photoUrl": "https://lh3.googleusercontent.com/a/default-user=s128",
      "userId": "107056986412592388577"
     },
     "user_tz": -120
    },
    "id": "MvMXTKRhbe8Q",
    "outputId": "5d82fa24-6c23-4b49-cb5b-716c017e99df"
   },
   "outputs": [
    {
     "data": {
      "text/plain": [
       "[3, 6, 9, 12, 15, 18, 21, 24, 27]"
      ]
     },
     "execution_count": 58,
     "metadata": {},
     "output_type": "execute_result"
    }
   ],
   "source": [
    "list(range(3, 30, 3))"
   ]
  },
  {
   "cell_type": "markdown",
   "metadata": {
    "colab_type": "text",
    "deletable": true,
    "editable": true,
    "id": "728dll3vdIAk"
   },
   "source": [
    "We can even go backwards!"
   ]
  },
  {
   "cell_type": "code",
   "execution_count": 59,
   "metadata": {
    "colab": {
     "autoexec": {
      "startup": false,
      "wait_interval": 0
     },
     "base_uri": "https://localhost:8080/",
     "height": 34,
     "output_extras": [
      {
       "item_id": 1
      }
     ]
    },
    "colab_type": "code",
    "collapsed": false,
    "deletable": true,
    "editable": true,
    "executionInfo": {
     "elapsed": 876,
     "status": "ok",
     "timestamp": 1521735765790,
     "user": {
      "displayName": "Rayno Mostert",
      "photoUrl": "https://lh3.googleusercontent.com/a/default-user=s128",
      "userId": "107056986412592388577"
     },
     "user_tz": -120
    },
    "id": "59bY6ay3bGay",
    "outputId": "61de78c8-33dc-462d-c2fa-3f6ba8480b51"
   },
   "outputs": [
    {
     "data": {
      "text/plain": [
       "[30, 27, 24, 21, 18, 15, 12, 9, 6]"
      ]
     },
     "execution_count": 59,
     "metadata": {},
     "output_type": "execute_result"
    }
   ],
   "source": [
    "list(range(30, 3, -3))"
   ]
  },
  {
   "cell_type": "markdown",
   "metadata": {
    "colab": {
     "autoexec": {
      "startup": false,
      "wait_interval": 0
     }
    },
    "colab_type": "code",
    "collapsed": true,
    "deletable": true,
    "editable": true,
    "id": "F6xUHJuhhQqy"
   },
   "source": [
    "That's the end of this tutorial. You should have a basic understanding of lists and how to work with it."
   ]
  }
 ],
 "metadata": {
  "colab": {
   "collapsed_sections": [],
   "default_view": {},
   "name": "4 Lists 04-05.ipynb",
   "provenance": [],
   "version": "0.3.2",
   "views": {}
  },
  "kernelspec": {
   "display_name": "Python 3",
   "language": "python",
   "name": "python3"
  },
  "language_info": {
   "codemirror_mode": {
    "name": "ipython",
    "version": 3
   },
   "file_extension": ".py",
   "mimetype": "text/x-python",
   "name": "python",
   "nbconvert_exporter": "python",
   "pygments_lexer": "ipython3",
   "version": "3.6.0"
  }
 },
 "nbformat": 4,
 "nbformat_minor": 2
}
