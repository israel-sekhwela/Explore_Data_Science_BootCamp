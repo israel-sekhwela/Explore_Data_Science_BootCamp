{
 "cells": [
  {
   "cell_type": "markdown",
   "metadata": {
    "colab_type": "text",
    "deletable": true,
    "editable": true,
    "id": "NFN_5br7SBGF"
   },
   "source": [
    "# Numbers and Strings"
   ]
  },
  {
   "cell_type": "markdown",
   "metadata": {
    "colab_type": "text",
    "deletable": true,
    "editable": true,
    "id": "kwOCO165SBGH"
   },
   "source": [
    "In this tutorial, we'll cover two of the most basic data types in python - *numbers* and *strings*. "
   ]
  },
  {
   "cell_type": "markdown",
   "metadata": {},
   "source": [
    "## Numbers"
   ]
  },
  {
   "cell_type": "markdown",
   "metadata": {},
   "source": [
    "Numbers can be **Integers** or **Floats**. Let's look at both of these types and compare the differences."
   ]
  },
  {
   "cell_type": "markdown",
   "metadata": {},
   "source": [
    "### Integers"
   ]
  },
  {
   "cell_type": "markdown",
   "metadata": {},
   "source": [
    "Integers in Python - just like in Arithmetic - are ***whole numbers***. Storing an integer in Python only stores the 'whole' part of any number."
   ]
  },
  {
   "cell_type": "code",
   "execution_count": 1,
   "metadata": {
    "collapsed": false
   },
   "outputs": [
    {
     "data": {
      "text/plain": [
       "int"
      ]
     },
     "execution_count": 1,
     "metadata": {},
     "output_type": "execute_result"
    }
   ],
   "source": [
    "type(5)"
   ]
  },
  {
   "cell_type": "markdown",
   "metadata": {},
   "source": [
    "### Floats"
   ]
  },
  {
   "cell_type": "markdown",
   "metadata": {},
   "source": [
    "Floating point numbers are numbers that do allow decimal points. "
   ]
  },
  {
   "cell_type": "code",
   "execution_count": 3,
   "metadata": {
    "collapsed": false
   },
   "outputs": [
    {
     "data": {
      "text/plain": [
       "float"
      ]
     },
     "execution_count": 3,
     "metadata": {},
     "output_type": "execute_result"
    }
   ],
   "source": [
    "type(5.657)"
   ]
  },
  {
   "cell_type": "markdown",
   "metadata": {
    "colab_type": "text",
    "deletable": true,
    "editable": true,
    "id": "ubQ49o29SBGH"
   },
   "source": [
    "#### Mathematical operations with numbers"
   ]
  },
  {
   "cell_type": "markdown",
   "metadata": {},
   "source": [
    "Let's look at how we perform mathematical operations with numbers in python. \n",
    "\n",
    "You will notice that when we have a mathematical operation with an `int` and a `float` then the result is always a `float`. This is because python always converts the `int` to a `float` in those cases."
   ]
  },
  {
   "cell_type": "markdown",
   "metadata": {
    "colab_type": "text",
    "deletable": true,
    "editable": true,
    "id": "yqfJu4vaSBGH"
   },
   "source": [
    "##### Addition and Subtraction\n",
    "\n",
    "Numbers are added using '+', and subtracted using '-':"
   ]
  },
  {
   "cell_type": "code",
   "execution_count": 1,
   "metadata": {
    "colab": {
     "autoexec": {
      "startup": false,
      "wait_interval": 0
     },
     "base_uri": "https://localhost:8080/",
     "height": 34,
     "output_extras": [
      {
       "item_id": 1
      }
     ]
    },
    "colab_type": "code",
    "collapsed": false,
    "deletable": true,
    "editable": true,
    "executionInfo": {
     "elapsed": 1275,
     "status": "ok",
     "timestamp": 1521028746982,
     "user": {
      "displayName": "Rayno Mostert",
      "photoUrl": "https://lh3.googleusercontent.com/a/default-user=s128",
      "userId": "107056986412592388577"
     },
     "user_tz": -120
    },
    "id": "EvgNeoqrSBGJ",
    "outputId": "8d83d728-2bf9-4b92-9932-a85345bbbe2d"
   },
   "outputs": [
    {
     "data": {
      "text/plain": [
       "6"
      ]
     },
     "execution_count": 1,
     "metadata": {
      "tags": []
     },
     "output_type": "execute_result"
    }
   ],
   "source": [
    "3 + 3"
   ]
  },
  {
   "cell_type": "code",
   "execution_count": 4,
   "metadata": {
    "colab": {
     "autoexec": {
      "startup": false,
      "wait_interval": 0
     },
     "base_uri": "https://localhost:8080/",
     "height": 34,
     "output_extras": [
      {
       "item_id": 1
      }
     ]
    },
    "colab_type": "code",
    "collapsed": false,
    "deletable": true,
    "editable": true,
    "executionInfo": {
     "elapsed": 781,
     "status": "ok",
     "timestamp": 1521028749490,
     "user": {
      "displayName": "Rayno Mostert",
      "photoUrl": "https://lh3.googleusercontent.com/a/default-user=s128",
      "userId": "107056986412592388577"
     },
     "user_tz": -120
    },
    "id": "j7TEX8hZSBGN",
    "outputId": "3a67ab5d-1585-4d39-e913-ab8ee1351266"
   },
   "outputs": [
    {
     "data": {
      "text/plain": [
       "0.5"
      ]
     },
     "execution_count": 4,
     "metadata": {},
     "output_type": "execute_result"
    }
   ],
   "source": [
    "3 - 2.5"
   ]
  },
  {
   "cell_type": "markdown",
   "metadata": {
    "colab_type": "text",
    "deletable": true,
    "editable": true,
    "id": "7J19MFQqSBGQ"
   },
   "source": [
    "##### Multiplication and Division"
   ]
  },
  {
   "cell_type": "markdown",
   "metadata": {
    "colab_type": "text",
    "deletable": true,
    "editable": true,
    "id": "GtuHYTYfSBGQ"
   },
   "source": [
    "In Python, we use the asterisk, '*', to perform multiplication:"
   ]
  },
  {
   "cell_type": "code",
   "execution_count": 5,
   "metadata": {
    "colab": {
     "autoexec": {
      "startup": false,
      "wait_interval": 0
     },
     "base_uri": "https://localhost:8080/",
     "height": 34,
     "output_extras": [
      {
       "item_id": 1
      }
     ]
    },
    "colab_type": "code",
    "collapsed": false,
    "deletable": true,
    "editable": true,
    "executionInfo": {
     "elapsed": 951,
     "status": "ok",
     "timestamp": 1521028750527,
     "user": {
      "displayName": "Rayno Mostert",
      "photoUrl": "https://lh3.googleusercontent.com/a/default-user=s128",
      "userId": "107056986412592388577"
     },
     "user_tz": -120
    },
    "id": "GJnl-AtmSBGR",
    "outputId": "8a3dd67b-7044-4f29-a962-6a0e46be9c34"
   },
   "outputs": [
    {
     "data": {
      "text/plain": [
       "10.5"
      ]
     },
     "execution_count": 5,
     "metadata": {},
     "output_type": "execute_result"
    }
   ],
   "source": [
    "3 * 3.5"
   ]
  },
  {
   "cell_type": "markdown",
   "metadata": {
    "colab_type": "text",
    "deletable": true,
    "editable": true,
    "id": "bLsAJFPaSBGU"
   },
   "source": [
    "and we use the forward-slash, '/', to perform division:"
   ]
  },
  {
   "cell_type": "code",
   "execution_count": 4,
   "metadata": {
    "colab": {
     "autoexec": {
      "startup": false,
      "wait_interval": 0
     },
     "base_uri": "https://localhost:8080/",
     "height": 34,
     "output_extras": [
      {
       "item_id": 1
      }
     ]
    },
    "colab_type": "code",
    "collapsed": false,
    "deletable": true,
    "editable": true,
    "executionInfo": {
     "elapsed": 1016,
     "status": "ok",
     "timestamp": 1521028751613,
     "user": {
      "displayName": "Rayno Mostert",
      "photoUrl": "https://lh3.googleusercontent.com/a/default-user=s128",
      "userId": "107056986412592388577"
     },
     "user_tz": -120
    },
    "id": "mhFcGLnMSBGV",
    "outputId": "f4099df0-8cbf-4fa5-bb40-f30a2f6f8f34"
   },
   "outputs": [
    {
     "data": {
      "text/plain": [
       "1.5"
      ]
     },
     "execution_count": 4,
     "metadata": {
      "tags": []
     },
     "output_type": "execute_result"
    }
   ],
   "source": [
    "3 / 2"
   ]
  },
  {
   "cell_type": "markdown",
   "metadata": {
    "colab_type": "text",
    "deletable": true,
    "editable": true,
    "id": "6XJAKQLFp6Zw"
   },
   "source": [
    "We can also round down our division if we want using a double forward slash '//'."
   ]
  },
  {
   "cell_type": "code",
   "execution_count": 2,
   "metadata": {
    "colab": {
     "autoexec": {
      "startup": false,
      "wait_interval": 0
     },
     "base_uri": "https://localhost:8080/",
     "height": 34,
     "output_extras": [
      {
       "item_id": 1
      }
     ]
    },
    "colab_type": "code",
    "collapsed": false,
    "deletable": true,
    "editable": true,
    "executionInfo": {
     "elapsed": 985,
     "status": "ok",
     "timestamp": 1522224669167,
     "user": {
      "displayName": "Jordan Alan Haskel",
      "photoUrl": "https://lh3.googleusercontent.com/a/default-user=s128",
      "userId": "107965033734524396897"
     },
     "user_tz": -120
    },
    "id": "yoBC6m31qHhF",
    "outputId": "995e0b45-682f-4afa-881b-d6a51943bbb5"
   },
   "outputs": [
    {
     "data": {
      "text/plain": [
       "1"
      ]
     },
     "execution_count": 2,
     "metadata": {
      "tags": []
     },
     "output_type": "execute_result"
    }
   ],
   "source": [
    "3 // 2"
   ]
  },
  {
   "cell_type": "markdown",
   "metadata": {
    "colab_type": "text",
    "deletable": true,
    "editable": true,
    "id": "y--f0VmBSBGX"
   },
   "source": [
    "##### Exponentiation and Radicals"
   ]
  },
  {
   "cell_type": "markdown",
   "metadata": {
    "colab_type": "text",
    "deletable": true,
    "editable": true,
    "id": "Pg5e0oVwSBGY"
   },
   "source": [
    "Two asterisks, '\\*\\*', are used to denote exponentiation, for example $4^2$, will be denoted:"
   ]
  },
  {
   "cell_type": "code",
   "execution_count": null,
   "metadata": {
    "colab": {
     "autoexec": {
      "startup": false,
      "wait_interval": 0
     },
     "output_extras": [
      {}
     ]
    },
    "colab_type": "code",
    "collapsed": false,
    "deletable": true,
    "editable": true,
    "id": "1PD-IoBuSBGZ",
    "outputId": "d59253e1-324d-4598-e02b-b7e652ba6afe"
   },
   "outputs": [
    {
     "data": {
      "text/plain": [
       "16"
      ]
     },
     "execution_count": 5,
     "metadata": {
      "tags": []
     },
     "output_type": "execute_result"
    }
   ],
   "source": [
    "4 ** 2"
   ]
  },
  {
   "cell_type": "markdown",
   "metadata": {
    "colab_type": "text",
    "deletable": true,
    "editable": true,
    "id": "MjLYGhAfSBGd"
   },
   "source": [
    "Remember from maths that a radical is just the inverse of the exponent, so the $\\ \\sqrt{16}\\ $ is equal to $\\ 16^{1/2}\\ $:"
   ]
  },
  {
   "cell_type": "code",
   "execution_count": null,
   "metadata": {
    "colab": {
     "autoexec": {
      "startup": false,
      "wait_interval": 0
     },
     "output_extras": [
      {}
     ]
    },
    "colab_type": "code",
    "collapsed": false,
    "deletable": true,
    "editable": true,
    "id": "7OFqyzR6SBGe",
    "outputId": "7c22d3b5-5898-4e66-8725-53a2f009012e"
   },
   "outputs": [
    {
     "data": {
      "text/plain": [
       "4.0"
      ]
     },
     "execution_count": 6,
     "metadata": {
      "tags": []
     },
     "output_type": "execute_result"
    }
   ],
   "source": [
    "16 ** (1/2)"
   ]
  },
  {
   "cell_type": "markdown",
   "metadata": {
    "colab_type": "text",
    "deletable": true,
    "editable": true,
    "id": "mlVr1_MFSBGh"
   },
   "source": [
    "##### BODMAS"
   ]
  },
  {
   "cell_type": "markdown",
   "metadata": {
    "colab_type": "text",
    "deletable": true,
    "editable": true,
    "id": "qh-7zlzRSBGi"
   },
   "source": [
    "- **B**rackets\n",
    "- **O**f\n",
    "- **D**ivision\n",
    "- **M**ultiplication\n",
    "- **A**ddition\n",
    "- **S**ubtraction\n",
    "\n",
    "Just like in normal arithmetic, Python uses the basic order of operations when calculating any results (i.e. brackets first, then division and multiplication, and only after that comes addition and subtraction).\n",
    "\n",
    "So, in the example below, Python will first calculate the term  `3 * 3 / 3 `  (which is equal to `3`).  Only then will it add the `3` at the start, and then subtract `2`."
   ]
  },
  {
   "cell_type": "code",
   "execution_count": 6,
   "metadata": {
    "colab": {
     "autoexec": {
      "startup": false,
      "wait_interval": 0
     },
     "base_uri": "https://localhost:8080/",
     "height": 34,
     "output_extras": [
      {
       "item_id": 1
      }
     ]
    },
    "colab_type": "code",
    "collapsed": false,
    "deletable": true,
    "editable": true,
    "executionInfo": {
     "elapsed": 1008,
     "status": "ok",
     "timestamp": 1521029002555,
     "user": {
      "displayName": "Rayno Mostert",
      "photoUrl": "https://lh3.googleusercontent.com/a/default-user=s128",
      "userId": "107056986412592388577"
     },
     "user_tz": -120
    },
    "id": "RUFKsAFISBGj",
    "outputId": "7835dbbc-25d7-41cc-8c27-7b2f48834a3d"
   },
   "outputs": [
    {
     "data": {
      "text/plain": [
       "4.0"
      ]
     },
     "execution_count": 6,
     "metadata": {},
     "output_type": "execute_result"
    }
   ],
   "source": [
    "3 + 3 * 3 / 3 - 2"
   ]
  },
  {
   "cell_type": "markdown",
   "metadata": {
    "colab_type": "text",
    "deletable": true,
    "editable": true,
    "id": "utzqI4LVSBGn"
   },
   "source": [
    "In order to specify the order of operations - just like at school - we need to make use of brackets:"
   ]
  },
  {
   "cell_type": "code",
   "execution_count": 7,
   "metadata": {
    "colab": {
     "autoexec": {
      "startup": false,
      "wait_interval": 0
     },
     "output_extras": [
      {}
     ]
    },
    "colab_type": "code",
    "collapsed": false,
    "deletable": true,
    "editable": true,
    "id": "w_D0vBFcSBGn",
    "outputId": "8aa25b4a-86c2-4972-d8e8-d1899f0165da"
   },
   "outputs": [
    {
     "data": {
      "text/plain": [
       "18.0"
      ]
     },
     "execution_count": 7,
     "metadata": {},
     "output_type": "execute_result"
    }
   ],
   "source": [
    "(3 + 3) * 3/(3 - 2)"
   ]
  },
  {
   "cell_type": "markdown",
   "metadata": {
    "colab_type": "text",
    "deletable": true,
    "editable": true,
    "id": "VvdwpnMDSBGr"
   },
   "source": [
    "##### Modulo"
   ]
  },
  {
   "cell_type": "markdown",
   "metadata": {
    "colab_type": "text",
    "deletable": true,
    "editable": true,
    "id": "pxeJgm_RSBGr"
   },
   "source": [
    "Modulo - `%` - is the only operator you might not be familiar with from High School.\n",
    "\n",
    "Modulo calculates the remainder, when the number on the left is divided by the number on the right of the modulo."
   ]
  },
  {
   "cell_type": "code",
   "execution_count": 8,
   "metadata": {
    "colab": {
     "autoexec": {
      "startup": false,
      "wait_interval": 0
     },
     "output_extras": [
      {}
     ]
    },
    "colab_type": "code",
    "collapsed": false,
    "deletable": true,
    "editable": true,
    "id": "ajL8Hya2SBGr",
    "outputId": "bba2bb79-fc96-4d62-b3d2-ae8255cfb3e5"
   },
   "outputs": [
    {
     "data": {
      "text/plain": [
       "2"
      ]
     },
     "execution_count": 8,
     "metadata": {},
     "output_type": "execute_result"
    }
   ],
   "source": [
    "11 % 3"
   ]
  },
  {
   "cell_type": "markdown",
   "metadata": {
    "colab_type": "text",
    "deletable": true,
    "editable": true,
    "id": "QobQO0WySBGt"
   },
   "source": [
    "`11 % 3` gives 2 as a result.\n",
    "\n",
    "This is because the number `3` goes into `11` three times (3 x 3 = 9), with 2 left over (11 - 9 = 2)"
   ]
  },
  {
   "cell_type": "markdown",
   "metadata": {
    "colab_type": "text",
    "deletable": true,
    "editable": true,
    "id": "0ed87naASBGu"
   },
   "source": [
    "*** We often use modulo to determine whether a number is even:*** "
   ]
  },
  {
   "cell_type": "markdown",
   "metadata": {
    "colab_type": "text",
    "deletable": true,
    "editable": true,
    "id": "NTDmpq9xSBGu"
   },
   "source": [
    "An even number will have no remainder if divided by 2:"
   ]
  },
  {
   "cell_type": "code",
   "execution_count": 9,
   "metadata": {
    "colab": {
     "autoexec": {
      "startup": false,
      "wait_interval": 0
     },
     "output_extras": [
      {}
     ]
    },
    "colab_type": "code",
    "collapsed": false,
    "deletable": true,
    "editable": true,
    "id": "eLPUgZu9SBGv",
    "outputId": "07145fd2-a52a-44e4-d815-a68444b0e48d"
   },
   "outputs": [
    {
     "data": {
      "text/plain": [
       "0"
      ]
     },
     "execution_count": 9,
     "metadata": {},
     "output_type": "execute_result"
    }
   ],
   "source": [
    "10 % 2"
   ]
  },
  {
   "cell_type": "markdown",
   "metadata": {
    "colab_type": "text",
    "deletable": true,
    "editable": true,
    "id": "znWtfYWgSBGz"
   },
   "source": [
    "An odd number will always have 1 as a remainder when divided by 2:"
   ]
  },
  {
   "cell_type": "code",
   "execution_count": 10,
   "metadata": {
    "colab": {
     "autoexec": {
      "startup": false,
      "wait_interval": 0
     },
     "output_extras": [
      {}
     ]
    },
    "colab_type": "code",
    "collapsed": false,
    "deletable": true,
    "editable": true,
    "id": "O1FWpaDnSBGz",
    "outputId": "d4ba86b6-5687-430c-87f4-acbd036ed36f"
   },
   "outputs": [
    {
     "data": {
      "text/plain": [
       "1"
      ]
     },
     "execution_count": 10,
     "metadata": {},
     "output_type": "execute_result"
    }
   ],
   "source": [
    "11 % 2"
   ]
  },
  {
   "cell_type": "markdown",
   "metadata": {
    "colab_type": "text",
    "deletable": true,
    "editable": true,
    "id": "-DnbIs2vrG4-"
   },
   "source": [
    "#### Round\n",
    "**`round(number, ndigits)`**\n",
    "\n",
    "We also have a built-in Python functions to round numbers up/down.\n",
    "For example, to round $\\ 3.14159265359\\ $(`number`) to $2$ (`ndigits`) decimals, we could do: "
   ]
  },
  {
   "cell_type": "code",
   "execution_count": 11,
   "metadata": {
    "colab": {
     "autoexec": {
      "startup": false,
      "wait_interval": 0
     },
     "base_uri": "https://localhost:8080/",
     "height": 34,
     "output_extras": [
      {
       "item_id": 1
      }
     ]
    },
    "colab_type": "code",
    "collapsed": false,
    "deletable": true,
    "editable": true,
    "executionInfo": {
     "elapsed": 1264,
     "status": "ok",
     "timestamp": 1521721896244,
     "user": {
      "displayName": "Rayno Mostert",
      "photoUrl": "https://lh3.googleusercontent.com/a/default-user=s128",
      "userId": "107056986412592388577"
     },
     "user_tz": -120
    },
    "id": "gsw0Zi27rU7y",
    "outputId": "25a8f8d3-548c-4331-c7c8-c361e6491155"
   },
   "outputs": [
    {
     "data": {
      "text/plain": [
       "3.14"
      ]
     },
     "execution_count": 11,
     "metadata": {},
     "output_type": "execute_result"
    }
   ],
   "source": [
    "round(3.14159265359, 2)"
   ]
  },
  {
   "cell_type": "markdown",
   "metadata": {
    "colab_type": "text",
    "deletable": true,
    "editable": true,
    "id": "o0URIP2ts3RM"
   },
   "source": [
    "***BE CAREFUL:***<br>\n",
    "Rounding in Python can give unexpected results, for example rounding the float $2.675\\ $ to $2\\ $ digits, would give $2.67 \\ $ and not $\\ 2.68\\ $ as you would expect:"
   ]
  },
  {
   "cell_type": "code",
   "execution_count": 12,
   "metadata": {
    "colab": {
     "autoexec": {
      "startup": false,
      "wait_interval": 0
     },
     "base_uri": "https://localhost:8080/",
     "height": 34,
     "output_extras": [
      {
       "item_id": 1
      }
     ]
    },
    "colab_type": "code",
    "collapsed": false,
    "deletable": true,
    "editable": true,
    "executionInfo": {
     "elapsed": 1056,
     "status": "ok",
     "timestamp": 1522166170397,
     "user": {
      "displayName": "Rayno Mostert",
      "photoUrl": "https://lh3.googleusercontent.com/a/default-user=s128",
      "userId": "107056986412592388577"
     },
     "user_tz": -120
    },
    "id": "sGPKlxSXsUf0",
    "outputId": "9800e36b-44e2-4b98-d84a-735864daa775"
   },
   "outputs": [
    {
     "data": {
      "text/plain": [
       "2.67"
      ]
     },
     "execution_count": 12,
     "metadata": {},
     "output_type": "execute_result"
    }
   ],
   "source": [
    "round(2.675, 2)"
   ]
  },
  {
   "cell_type": "markdown",
   "metadata": {
    "colab_type": "text",
    "deletable": true,
    "editable": true,
    "id": "961-O1XWtaXo"
   },
   "source": [
    "This is not an error. It's just a result of the way computers do math.\n",
    "\n",
    "Check out https://docs.python.org/3.3/tutorial/floatingpoint.html#tut-fp-issues for more."
   ]
  },
  {
   "cell_type": "markdown",
   "metadata": {
    "collapsed": true,
    "deletable": true,
    "editable": true
   },
   "source": [
    "## Strings"
   ]
  },
  {
   "cell_type": "markdown",
   "metadata": {
    "collapsed": true,
    "deletable": true,
    "editable": true
   },
   "source": [
    "***\n",
    "\n",
    "\n",
    "> *** A [string](https://en.wikipedia.org/wiki/String_(computer_science) is a sequence of characters. ***\n",
    "\n",
    "\n",
    "***\n",
    "\n",
    "For example the sentence above is a `string`. Python will just see it as a `list`, consisting of:\n",
    "'A', ' ', 's', 't', 'r', 'i', 'n', 'g', ' ', 'i', 's', ' ', 'a', ' ', 'l', 'i', 's', 't', ' ', 'o', 'f', ' ', 'c', 'h', 'a', 'r', 'a', 'c', 't', 'e', 'r', 's', '.'"
   ]
  },
  {
   "cell_type": "code",
   "execution_count": 13,
   "metadata": {
    "collapsed": false,
    "deletable": true,
    "editable": true
   },
   "outputs": [
    {
     "data": {
      "text/plain": [
       "'A string is a list of characters.'"
      ]
     },
     "execution_count": 13,
     "metadata": {},
     "output_type": "execute_result"
    }
   ],
   "source": [
    "'A'+ ' '+ 's'+ 't'+ 'r'+ 'i'+ 'n'+ 'g'+ ' '+ 'i'+ 's'+ ' '+ 'a'+ ' '+ 'l'+ 'i'+ 's'+ 't'+ ' '+ 'o'+ 'f'+ ' '+ 'c'+ 'h'+ 'a'+ 'r'+ 'a'+ 'c'+ 't'+ 'e'+ 'r'+ 's'+ '.'"
   ]
  },
  {
   "cell_type": "markdown",
   "metadata": {
    "collapsed": true,
    "deletable": true,
    "editable": true
   },
   "source": [
    "Just as we added characters together above, we can also add `string`s:"
   ]
  },
  {
   "cell_type": "code",
   "execution_count": 23,
   "metadata": {
    "collapsed": false,
    "deletable": true,
    "editable": true
   },
   "outputs": [
    {
     "data": {
      "text/plain": [
       "'Financial Calculator'"
      ]
     },
     "execution_count": 23,
     "metadata": {},
     "output_type": "execute_result"
    }
   ],
   "source": [
    "'Financial' + ' ' + 'Calculator'"
   ]
  },
  {
   "cell_type": "markdown",
   "metadata": {},
   "source": [
    "You can use single quotes or double quotes to create `string`s. In Python, they're essentially the same thing."
   ]
  },
  {
   "cell_type": "markdown",
   "metadata": {},
   "source": [
    "### Differentiating between numbers and strings\n",
    "\n",
    "When dealing with strings in Python, we always need to enclose them in quotation marks, in order to clarify that we want python to see them as strings.\n",
    "\n",
    "This differentiates them from variable names and numbers."
   ]
  },
  {
   "cell_type": "markdown",
   "metadata": {},
   "source": [
    "E.g. add numbers:"
   ]
  },
  {
   "cell_type": "code",
   "execution_count": 15,
   "metadata": {
    "collapsed": false
   },
   "outputs": [
    {
     "data": {
      "text/plain": [
       "21"
      ]
     },
     "execution_count": 15,
     "metadata": {},
     "output_type": "execute_result"
    }
   ],
   "source": [
    "7 + 7 + 7"
   ]
  },
  {
   "cell_type": "markdown",
   "metadata": {},
   "source": [
    "E.g. add strings:"
   ]
  },
  {
   "cell_type": "code",
   "execution_count": 16,
   "metadata": {
    "collapsed": false
   },
   "outputs": [
    {
     "data": {
      "text/plain": [
       "'777'"
      ]
     },
     "execution_count": 16,
     "metadata": {},
     "output_type": "execute_result"
    }
   ],
   "source": [
    "'7' + '7' + '7'"
   ]
  },
  {
   "cell_type": "markdown",
   "metadata": {},
   "source": [
    "E.g. multiply variables"
   ]
  },
  {
   "cell_type": "code",
   "execution_count": 17,
   "metadata": {
    "collapsed": false
   },
   "outputs": [
    {
     "data": {
      "text/plain": [
       "21"
      ]
     },
     "execution_count": 17,
     "metadata": {},
     "output_type": "execute_result"
    }
   ],
   "source": [
    "7 * 3"
   ]
  },
  {
   "cell_type": "code",
   "execution_count": 18,
   "metadata": {
    "collapsed": false
   },
   "outputs": [
    {
     "data": {
      "text/plain": [
       "'777'"
      ]
     },
     "execution_count": 18,
     "metadata": {},
     "output_type": "execute_result"
    }
   ],
   "source": [
    "'7' * 3"
   ]
  },
  {
   "cell_type": "markdown",
   "metadata": {},
   "source": [
    "Notice from the above how multiplying a string by 3 is similar to multiplying any number by 3: Just add the number to itself 3 times!"
   ]
  },
  {
   "cell_type": "markdown",
   "metadata": {},
   "source": [
    "### Methods on Strings\n",
    "\n",
    "#### `len`\n",
    "We can work out the length of a `string`, by using **`len( <<YOUR OWN STRING HERE>> )`**"
   ]
  },
  {
   "cell_type": "code",
   "execution_count": 24,
   "metadata": {
    "collapsed": false
   },
   "outputs": [
    {
     "data": {
      "text/plain": [
       "9"
      ]
     },
     "execution_count": 24,
     "metadata": {},
     "output_type": "execute_result"
    }
   ],
   "source": [
    "len('Financial')"
   ]
  },
  {
   "cell_type": "markdown",
   "metadata": {},
   "source": [
    "#### `upper` & `lower`\n",
    "We can convert a `string` to `upper`case, by using **`<<YOUR OWN STRING HERE>>.upper()`**"
   ]
  },
  {
   "cell_type": "code",
   "execution_count": 25,
   "metadata": {
    "collapsed": false
   },
   "outputs": [
    {
     "data": {
      "text/plain": [
       "'CALCULATOR'"
      ]
     },
     "execution_count": 25,
     "metadata": {},
     "output_type": "execute_result"
    }
   ],
   "source": [
    "\"Calculator\".upper()"
   ]
  },
  {
   "cell_type": "markdown",
   "metadata": {},
   "source": [
    "Or we can convert it to `lower`case, by using **`<<YOUR OWN STRING HERE>>.lower()`**:"
   ]
  },
  {
   "cell_type": "code",
   "execution_count": 26,
   "metadata": {
    "collapsed": false
   },
   "outputs": [
    {
     "data": {
      "text/plain": [
       "'calculator'"
      ]
     },
     "execution_count": 26,
     "metadata": {},
     "output_type": "execute_result"
    }
   ],
   "source": [
    "\"Calculator\".lower()"
   ]
  },
  {
   "cell_type": "markdown",
   "metadata": {},
   "source": [
    "## Exercises"
   ]
  },
  {
   "cell_type": "markdown",
   "metadata": {
    "colab_type": "text",
    "deletable": true,
    "editable": true,
    "id": "fP9CCxiiO9RC"
   },
   "source": [
    "### Code the following math equations in Python:"
   ]
  },
  {
   "cell_type": "markdown",
   "metadata": {
    "colab_type": "text",
    "deletable": true,
    "editable": true,
    "id": "E27HNANcPGL7"
   },
   "source": [
    "#### $\\mathbf{3 \\times 3}$"
   ]
  },
  {
   "cell_type": "code",
   "execution_count": 5,
   "metadata": {
    "colab": {
     "autoexec": {
      "startup": false,
      "wait_interval": 0
     },
     "base_uri": "https://localhost:8080/",
     "height": 34,
     "output_extras": [
      {
       "item_id": 1
      }
     ]
    },
    "colab_type": "code",
    "collapsed": false,
    "deletable": true,
    "editable": true,
    "executionInfo": {
     "elapsed": 1037,
     "status": "ok",
     "timestamp": 1522168806536,
     "user": {
      "displayName": "Rayno Mostert",
      "photoUrl": "https://lh3.googleusercontent.com/a/default-user=s128",
      "userId": "107056986412592388577"
     },
     "user_tz": -120
    },
    "id": "VqaRi_RYPBS3",
    "outputId": "156c778d-528b-4611-e059-4b7624e4bbb8"
   },
   "outputs": [
    {
     "data": {
      "text/plain": [
       "9"
      ]
     },
     "execution_count": 5,
     "metadata": {
      "tags": []
     },
     "output_type": "execute_result"
    }
   ],
   "source": []
  },
  {
   "cell_type": "markdown",
   "metadata": {
    "colab_type": "text",
    "deletable": true,
    "editable": true,
    "id": "syc65IxzPMQL"
   },
   "source": [
    "### $\\mathbf{\\frac{144}{12}}$"
   ]
  },
  {
   "cell_type": "code",
   "execution_count": 9,
   "metadata": {
    "colab": {
     "autoexec": {
      "startup": false,
      "wait_interval": 0
     },
     "base_uri": "https://localhost:8080/",
     "height": 34,
     "output_extras": [
      {
       "item_id": 1
      }
     ]
    },
    "colab_type": "code",
    "collapsed": false,
    "deletable": true,
    "editable": true,
    "executionInfo": {
     "elapsed": 1656,
     "status": "ok",
     "timestamp": 1522169075550,
     "user": {
      "displayName": "Rayno Mostert",
      "photoUrl": "https://lh3.googleusercontent.com/a/default-user=s128",
      "userId": "107056986412592388577"
     },
     "user_tz": -120
    },
    "id": "tneGKUiiWLbT",
    "outputId": "3d0950ab-efe5-4fef-f34b-c56b133d85e3"
   },
   "outputs": [
    {
     "data": {
      "text/plain": [
       "12.0"
      ]
     },
     "execution_count": 9,
     "metadata": {
      "tags": []
     },
     "output_type": "execute_result"
    }
   ],
   "source": []
  },
  {
   "cell_type": "markdown",
   "metadata": {
    "colab_type": "text",
    "deletable": true,
    "editable": true,
    "id": "jCdo4HtwPMbu"
   },
   "source": [
    "#### The remainder after we divide $\\mathbf{1565}$ by $\\mathbf{3}$"
   ]
  },
  {
   "cell_type": "code",
   "execution_count": 6,
   "metadata": {
    "colab": {
     "autoexec": {
      "startup": false,
      "wait_interval": 0
     },
     "base_uri": "https://localhost:8080/",
     "height": 34,
     "output_extras": [
      {
       "item_id": 1
      }
     ]
    },
    "colab_type": "code",
    "collapsed": false,
    "deletable": true,
    "editable": true,
    "executionInfo": {
     "elapsed": 1330,
     "status": "ok",
     "timestamp": 1522168855890,
     "user": {
      "displayName": "Rayno Mostert",
      "photoUrl": "https://lh3.googleusercontent.com/a/default-user=s128",
      "userId": "107056986412592388577"
     },
     "user_tz": -120
    },
    "id": "eW79xHavPdhF",
    "outputId": "f45d1ba3-4dbd-4c4c-cae8-9e6e25a4b389"
   },
   "outputs": [
    {
     "data": {
      "text/plain": [
       "2"
      ]
     },
     "execution_count": 6,
     "metadata": {
      "tags": []
     },
     "output_type": "execute_result"
    }
   ],
   "source": []
  },
  {
   "cell_type": "markdown",
   "metadata": {
    "colab_type": "text",
    "deletable": true,
    "editable": true,
    "id": "kBTeJvuCPMlA"
   },
   "source": [
    "#### $\\mathbf{\\sqrt{\\pi}}\\ \\ $  *- you can use the approximation to $\\mathbf{\\pi}$ as  $\\mathbf{\\frac{22}{7}}$*"
   ]
  },
  {
   "cell_type": "code",
   "execution_count": 7,
   "metadata": {
    "colab": {
     "autoexec": {
      "startup": false,
      "wait_interval": 0
     },
     "base_uri": "https://localhost:8080/",
     "height": 34,
     "output_extras": [
      {
       "item_id": 1
      }
     ]
    },
    "colab_type": "code",
    "collapsed": false,
    "deletable": true,
    "editable": true,
    "executionInfo": {
     "elapsed": 1314,
     "status": "ok",
     "timestamp": 1522168944664,
     "user": {
      "displayName": "Rayno Mostert",
      "photoUrl": "https://lh3.googleusercontent.com/a/default-user=s128",
      "userId": "107056986412592388577"
     },
     "user_tz": -120
    },
    "id": "2bOpg-ivPMlC",
    "outputId": "b47aef64-d124-4738-e68b-40f93d322c08"
   },
   "outputs": [
    {
     "data": {
      "text/plain": [
       "1.57"
      ]
     },
     "execution_count": 7,
     "metadata": {
      "tags": []
     },
     "output_type": "execute_result"
    }
   ],
   "source": []
  },
  {
   "cell_type": "markdown",
   "metadata": {
    "colab_type": "text",
    "deletable": true,
    "editable": true,
    "id": "b1KtyUIVPxBR"
   },
   "source": [
    "#### $\\mathbf{\\left(\\frac{22}{7} + 3.14^{2}\\right) \\times \\frac{3}{0.025}}$"
   ]
  },
  {
   "cell_type": "code",
   "execution_count": 8,
   "metadata": {
    "colab": {
     "autoexec": {
      "startup": false,
      "wait_interval": 0
     },
     "base_uri": "https://localhost:8080/",
     "height": 34,
     "output_extras": [
      {
       "item_id": 1
      }
     ]
    },
    "colab_type": "code",
    "collapsed": false,
    "deletable": true,
    "editable": true,
    "executionInfo": {
     "elapsed": 1232,
     "status": "ok",
     "timestamp": 1522169032746,
     "user": {
      "displayName": "Rayno Mostert",
      "photoUrl": "https://lh3.googleusercontent.com/a/default-user=s128",
      "userId": "107056986412592388577"
     },
     "user_tz": -120
    },
    "id": "Ha6o2ie4PxBV",
    "outputId": "c0a1716d-cda4-4584-ac8d-600c6a18ce05"
   },
   "outputs": [
    {
     "data": {
      "text/plain": [
       "1560.2948571428572"
      ]
     },
     "execution_count": 8,
     "metadata": {
      "tags": []
     },
     "output_type": "execute_result"
    }
   ],
   "source": []
  },
  {
   "cell_type": "markdown",
   "metadata": {
    "colab_type": "text",
    "deletable": true,
    "editable": true,
    "id": "z-hnVzV1PxBj"
   },
   "source": [
    "#### $\\mathbf{\\left[\\left(\\frac{3}{\\sqrt{11}}\\right)^{2} \\times 0.5 \\times \\frac{7}{9}  \\right]^{-1}}$, rounded to 2 decimal places"
   ]
  },
  {
   "cell_type": "code",
   "execution_count": 15,
   "metadata": {
    "colab": {
     "autoexec": {
      "startup": false,
      "wait_interval": 0
     },
     "base_uri": "https://localhost:8080/",
     "height": 34,
     "output_extras": [
      {
       "item_id": 1
      }
     ]
    },
    "colab_type": "code",
    "collapsed": false,
    "deletable": true,
    "editable": true,
    "executionInfo": {
     "elapsed": 1010,
     "status": "ok",
     "timestamp": 1522169554437,
     "user": {
      "displayName": "Rayno Mostert",
      "photoUrl": "https://lh3.googleusercontent.com/a/default-user=s128",
      "userId": "107056986412592388577"
     },
     "user_tz": -120
    },
    "id": "yM4usD_0PxBu",
    "outputId": "a63ffd6a-cb52-481d-d091-3e56985bcf34"
   },
   "outputs": [
    {
     "data": {
      "text/plain": [
       "3.14"
      ]
     },
     "execution_count": 15,
     "metadata": {
      "tags": []
     },
     "output_type": "execute_result"
    }
   ],
   "source": []
  },
  {
   "cell_type": "markdown",
   "metadata": {},
   "source": [
    "### Code the following exercises:"
   ]
  },
  {
   "cell_type": "markdown",
   "metadata": {},
   "source": [
    "#### Print out your name 500 times by using the `*` in Python:\n",
    "Make sure that there are spaces between the 500 names."
   ]
  },
  {
   "cell_type": "code",
   "execution_count": null,
   "metadata": {
    "collapsed": true
   },
   "outputs": [],
   "source": []
  },
  {
   "cell_type": "markdown",
   "metadata": {},
   "source": [
    "#### Print out the whole part of $\\ \\frac{22}{7}$"
   ]
  },
  {
   "cell_type": "code",
   "execution_count": 22,
   "metadata": {
    "collapsed": false
   },
   "outputs": [
    {
     "data": {
      "text/plain": [
       "3"
      ]
     },
     "execution_count": 22,
     "metadata": {},
     "output_type": "execute_result"
    }
   ],
   "source": []
  },
  {
   "cell_type": "markdown",
   "metadata": {},
   "source": [
    "#### Add together: your name in `lower`case and your surname in `upper`case\n",
    "(Do this by using the `upper` and `lower` functions, and make sure there's a space in the middle)\n",
    "\n",
    "e.g. `'rendani EMANUEL'`"
   ]
  },
  {
   "cell_type": "code",
   "execution_count": null,
   "metadata": {
    "collapsed": true
   },
   "outputs": [],
   "source": []
  },
  {
   "cell_type": "markdown",
   "metadata": {},
   "source": [
    "#### Calculate the `len`gth of your own name (number of characters):"
   ]
  },
  {
   "cell_type": "code",
   "execution_count": null,
   "metadata": {
    "collapsed": true
   },
   "outputs": [],
   "source": []
  },
  {
   "cell_type": "markdown",
   "metadata": {},
   "source": [
    "That is the end of this tutorial. You should now have a basic understanding of numbers and strings in python. In the next tutorial we will look at booleans, operators and variables."
   ]
  }
 ],
 "metadata": {
  "colab": {
   "collapsed_sections": [],
   "default_view": {},
   "name": "0  Numbers in Python  04-02 .ipynb",
   "provenance": [],
   "version": "0.3.2",
   "views": {}
  },
  "kernelspec": {
   "display_name": "Python 3",
   "language": "python",
   "name": "python3"
  },
  "language_info": {
   "codemirror_mode": {
    "name": "ipython",
    "version": 3
   },
   "file_extension": ".py",
   "mimetype": "text/x-python",
   "name": "python",
   "nbconvert_exporter": "python",
   "pygments_lexer": "ipython3",
   "version": "3.6.0"
  }
 },
 "nbformat": 4,
 "nbformat_minor": 2
}
