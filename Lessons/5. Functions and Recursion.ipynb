{
 "cells": [
  {
   "cell_type": "markdown",
   "metadata": {
    "colab_type": "text",
    "deletable": true,
    "editable": true,
    "id": "lQXrwvloJHSd"
   },
   "source": [
    "# Functions and Recursion"
   ]
  },
  {
   "cell_type": "markdown",
   "metadata": {
    "deletable": true,
    "editable": true
   },
   "source": [
    "In this tutorial we will learn how to write and use functions in python as well as implemeting recursion in python."
   ]
  },
  {
   "cell_type": "markdown",
   "metadata": {
    "deletable": true,
    "editable": true
   },
   "source": [
    "## Functions"
   ]
  },
  {
   "cell_type": "markdown",
   "metadata": {
    "deletable": true,
    "editable": true
   },
   "source": [
    " A function is a block of organized, reusable code that is used to perform an action. "
   ]
  },
  {
   "cell_type": "markdown",
   "metadata": {
    "colab_type": "text",
    "deletable": true,
    "editable": true,
    "id": "B7yhXmsCJHSf"
   },
   "source": [
    "![alt_text](https://github.com/Explore-AI/Public-Data/blob/master/function_components.png?raw=true \"Function Components\")"
   ]
  },
  {
   "cell_type": "markdown",
   "metadata": {
    "colab_type": "text",
    "deletable": true,
    "editable": true,
    "id": "ZbB-onxBJHSg"
   },
   "source": [
    "The image above points out all the components of a function in Python. "
   ]
  },
  {
   "cell_type": "markdown",
   "metadata": {
    "colab_type": "text",
    "deletable": true,
    "editable": true,
    "id": "rEiWznLiJHSg"
   },
   "source": [
    "### def"
   ]
  },
  {
   "cell_type": "markdown",
   "metadata": {
    "colab_type": "text",
    "deletable": true,
    "editable": true,
    "id": "iTvd1kcTJHSi"
   },
   "source": [
    "We can define a function using the `def` keyword.\n",
    "\n",
    "This `def` keyword is then followed by a name for the function and two brackets (we'll get back to them later).\n",
    "\n",
    "It is important to notice that everything inside the function must be indented by one **Tab** deeper than `def`."
   ]
  },
  {
   "cell_type": "code",
   "execution_count": 1,
   "metadata": {
    "colab": {
     "autoexec": {
      "startup": false,
      "wait_interval": 0
     }
    },
    "colab_type": "code",
    "collapsed": true,
    "deletable": true,
    "editable": true,
    "id": "Miv--cJjJHSj"
   },
   "outputs": [],
   "source": [
    "def name_of_your_function (a, b, c):\n",
    "    some_result = do_something_with(a and b and c)\n",
    "    return some_result"
   ]
  },
  {
   "cell_type": "markdown",
   "metadata": {
    "colab_type": "text",
    "deletable": true,
    "editable": true,
    "id": "5gVGKpCEJHSq"
   },
   "source": [
    "A simple example:"
   ]
  },
  {
   "cell_type": "code",
   "execution_count": 2,
   "metadata": {
    "colab": {
     "autoexec": {
      "startup": false,
      "wait_interval": 0
     }
    },
    "colab_type": "code",
    "collapsed": true,
    "deletable": true,
    "editable": true,
    "id": "iSicLdPYJHSr"
   },
   "outputs": [],
   "source": [
    "def print_something():\n",
    "    print('SoMeThInG')"
   ]
  },
  {
   "cell_type": "markdown",
   "metadata": {
    "colab_type": "text",
    "deletable": true,
    "editable": true,
    "id": "FkJD-gQPJHSu"
   },
   "source": [
    "And we can run this function by writing the name of the function, followed by two brackets:"
   ]
  },
  {
   "cell_type": "code",
   "execution_count": 3,
   "metadata": {
    "colab": {
     "autoexec": {
      "startup": false,
      "wait_interval": 0
     },
     "base_uri": "https://localhost:8080/",
     "height": 34,
     "output_extras": [
      {
       "item_id": 1
      }
     ]
    },
    "colab_type": "code",
    "collapsed": false,
    "deletable": true,
    "editable": true,
    "executionInfo": {
     "elapsed": 855,
     "status": "ok",
     "timestamp": 1520840459824,
     "user": {
      "displayName": "Rayno Mostert",
      "photoUrl": "https://lh3.googleusercontent.com/a/default-user=s128",
      "userId": "107056986412592388577"
     },
     "user_tz": -120
    },
    "id": "hCtna-oDJHSv",
    "outputId": "ec2a1bd4-f9bb-4e2b-ab07-a6584c494857"
   },
   "outputs": [
    {
     "name": "stdout",
     "output_type": "stream",
     "text": [
      "SoMeThInG\n"
     ]
    }
   ],
   "source": [
    "print_something()"
   ]
  },
  {
   "cell_type": "markdown",
   "metadata": {
    "colab_type": "text",
    "deletable": true,
    "editable": true,
    "id": "x39sBzMUJHTO"
   },
   "source": [
    "### return"
   ]
  },
  {
   "cell_type": "markdown",
   "metadata": {
    "colab_type": "text",
    "deletable": true,
    "editable": true,
    "id": "P8lIPglGJHTP"
   },
   "source": [
    "In the above example we printed something in the function.  But - more often than not - we would want to **return** something from the function.\n",
    "\n",
    "It's useful (at least at the start) to think of **return** as the function passing something back to whoever ran it."
   ]
  },
  {
   "cell_type": "code",
   "execution_count": 4,
   "metadata": {
    "colab": {
     "autoexec": {
      "startup": false,
      "wait_interval": 0
     }
    },
    "colab_type": "code",
    "collapsed": true,
    "deletable": true,
    "editable": true,
    "id": "4vZJu7PgJHTQ"
   },
   "outputs": [],
   "source": [
    "def return_something():\n",
    "    return 'SoMeThInG'"
   ]
  },
  {
   "cell_type": "markdown",
   "metadata": {
    "colab_type": "text",
    "deletable": true,
    "editable": true,
    "id": "JhyrNI1wJHTX"
   },
   "source": [
    "And when we run it, notice the \"Out\" keyword on the left, indicating that the function gives \"Out\" this value:"
   ]
  },
  {
   "cell_type": "code",
   "execution_count": 5,
   "metadata": {
    "colab": {
     "autoexec": {
      "startup": false,
      "wait_interval": 0
     },
     "output_extras": [
      {}
     ]
    },
    "colab_type": "code",
    "collapsed": false,
    "deletable": true,
    "editable": true,
    "id": "PhFt3VNyJHTY",
    "outputId": "e9bcfed3-7f46-4dd8-fc07-2b7fd99e5065"
   },
   "outputs": [
    {
     "data": {
      "text/plain": [
       "'SoMeThInG'"
      ]
     },
     "execution_count": 5,
     "metadata": {},
     "output_type": "execute_result"
    }
   ],
   "source": [
    "return_something()"
   ]
  },
  {
   "cell_type": "markdown",
   "metadata": {
    "colab_type": "text",
    "deletable": true,
    "editable": true,
    "id": "tg87Rn6UJHTk"
   },
   "source": [
    "This is different from `print_something` which won't give us any result **out**, but merely *print it*:"
   ]
  },
  {
   "cell_type": "code",
   "execution_count": 6,
   "metadata": {
    "colab": {
     "autoexec": {
      "startup": false,
      "wait_interval": 0
     },
     "output_extras": [
      {}
     ]
    },
    "colab_type": "code",
    "collapsed": false,
    "deletable": true,
    "editable": true,
    "id": "zh6mherYJHTm",
    "outputId": "6a3ed0f1-7ca1-4fc0-97e2-aac36b099203"
   },
   "outputs": [
    {
     "name": "stdout",
     "output_type": "stream",
     "text": [
      "SoMeThInG\n"
     ]
    }
   ],
   "source": [
    "print_something()"
   ]
  },
  {
   "cell_type": "markdown",
   "metadata": {
    "colab_type": "text",
    "deletable": true,
    "editable": true,
    "id": "CBISPAmPJHTu"
   },
   "source": [
    "### Arguments "
   ]
  },
  {
   "cell_type": "markdown",
   "metadata": {
    "colab_type": "text",
    "deletable": true,
    "editable": true,
    "id": "xZ9ULhYYJHTw"
   },
   "source": [
    "Let's say we want to write a function that returns the result of the future value equation:\n",
    "\n",
    "$(1 + i)^n$\n",
    "\n",
    "where $i$, and $n$ are both numbers.\n",
    "\n",
    "We can pass in the values of i and n into the function, by defining it as follows:"
   ]
  },
  {
   "cell_type": "code",
   "execution_count": 7,
   "metadata": {
    "colab": {
     "autoexec": {
      "startup": false,
      "wait_interval": 0
     }
    },
    "colab_type": "code",
    "collapsed": true,
    "deletable": true,
    "editable": true,
    "id": "RGwCgtr9JHTx"
   },
   "outputs": [],
   "source": [
    "def future_value(i, n):\n",
    "    result = (1 + i)**n\n",
    "    return result"
   ]
  },
  {
   "cell_type": "markdown",
   "metadata": {
    "colab_type": "text",
    "deletable": true,
    "editable": true,
    "id": "6IBOeLYQJHT1"
   },
   "source": [
    "And we can then call our function with any values of i and n:"
   ]
  },
  {
   "cell_type": "code",
   "execution_count": 8,
   "metadata": {
    "colab": {
     "autoexec": {
      "startup": false,
      "wait_interval": 0
     },
     "output_extras": [
      {}
     ]
    },
    "colab_type": "code",
    "collapsed": false,
    "deletable": true,
    "editable": true,
    "id": "Cewyj2buJHUM",
    "outputId": "9754cd77-9a33-4d72-c8db-6203308a6d5d"
   },
   "outputs": [
    {
     "data": {
      "text/plain": [
       "2.653297705144422"
      ]
     },
     "execution_count": 8,
     "metadata": {},
     "output_type": "execute_result"
    }
   ],
   "source": [
    "future_value(0.05, 20)"
   ]
  },
  {
   "cell_type": "markdown",
   "metadata": {
    "colab_type": "text",
    "deletable": true,
    "editable": true,
    "id": "woR02HFsJHUV"
   },
   "source": [
    "The `i` and the `n` inside `equation(i, n)` are called **arguments** to the function."
   ]
  },
  {
   "cell_type": "markdown",
   "metadata": {
    "colab_type": "text",
    "deletable": true,
    "editable": true,
    "id": "5xn__iHfJHUb"
   },
   "source": [
    "**Function Arguments** allow us to make generic functions that can be used with infinitely many variations. "
   ]
  },
  {
   "cell_type": "code",
   "execution_count": 9,
   "metadata": {
    "colab": {
     "autoexec": {
      "startup": false,
      "wait_interval": 0
     },
     "output_extras": [
      {}
     ]
    },
    "colab_type": "code",
    "collapsed": false,
    "deletable": true,
    "editable": true,
    "id": "80Her0UfJHUd",
    "outputId": "9c1084ea-e6c2-47fa-9ca4-28b18cd86154"
   },
   "outputs": [
    {
     "data": {
      "text/plain": [
       "6.727499949325611"
      ]
     },
     "execution_count": 9,
     "metadata": {},
     "output_type": "execute_result"
    }
   ],
   "source": [
    "future_value(0.1, 20)"
   ]
  },
  {
   "cell_type": "code",
   "execution_count": 10,
   "metadata": {
    "colab": {
     "autoexec": {
      "startup": false,
      "wait_interval": 0
     },
     "output_extras": [
      {}
     ]
    },
    "colab_type": "code",
    "collapsed": false,
    "deletable": true,
    "editable": true,
    "id": "Q8p2ymM6JHUi",
    "outputId": "c8705687-4629-4927-8767-f7d6e893d0b3"
   },
   "outputs": [
    {
     "data": {
      "text/plain": [
       "16.36653739294609"
      ]
     },
     "execution_count": 10,
     "metadata": {},
     "output_type": "execute_result"
    }
   ],
   "source": [
    "future_value(0.15, 20)"
   ]
  },
  {
   "cell_type": "markdown",
   "metadata": {
    "colab_type": "text",
    "deletable": true,
    "editable": true,
    "id": "8wtaqXlHJHUl"
   },
   "source": [
    "### Challenge: "
   ]
  },
  {
   "cell_type": "markdown",
   "metadata": {
    "colab_type": "text",
    "deletable": true,
    "editable": true,
    "id": "uLmpvR6jC7tx"
   },
   "source": [
    "#### Interest rates"
   ]
  },
  {
   "cell_type": "markdown",
   "metadata": {
    "colab_type": "text",
    "deletable": true,
    "editable": true,
    "id": "fbmNmvhwDqwx"
   },
   "source": [
    "You just turned 20 and you want to buy a new pair of shoes to wear at your party. The shoes cost R1000. \n",
    "You're broke right now, but you know that in 1 year's time - when you turn 21 - you will get a lot of money from your relatives for your 21st birthday.\n",
    "\n",
    "FedBank is willing to lend you R1000, at 20% interest per year.\n",
    "\n",
    "Assuming that you take the loan - how much will you have to pay back in one year's time?\n",
    "\n",
    "***\n",
    "Loan summary:\n",
    "\n",
    "*   $PV$:     **R1000**\n",
    "*   $n$:      **1 year**\n",
    "*   $i$:      **20% interest** per annum, compounded annually\n",
    "\n",
    "Given a present value loan amount, PV, the formula for a future repayment (FV) is given by:\n",
    "\n",
    "\n",
    "\\begin{equation}\n",
    "FV = PV(1 + i)^n\n",
    "\\end{equation}\n",
    "\n",
    "\n",
    "***\n",
    "\n",
    "In Python we'd calculate this value as follows:"
   ]
  },
  {
   "cell_type": "code",
   "execution_count": 11,
   "metadata": {
    "colab": {
     "autoexec": {
      "startup": false,
      "wait_interval": 0
     },
     "base_uri": "https://localhost:8080/",
     "height": 34,
     "output_extras": [
      {}
     ]
    },
    "colab_type": "code",
    "collapsed": false,
    "deletable": true,
    "editable": true,
    "executionInfo": {
     "elapsed": 1029,
     "status": "ok",
     "timestamp": 1520420471849,
     "user": {
      "displayName": "Rayno Mostert",
      "photoUrl": "https://lh3.googleusercontent.com/a/default-user=s128",
      "userId": "107056986412592388577"
     },
     "user_tz": -120
    },
    "id": "5IqsH7t3C7EY",
    "outputId": "ce0c20cb-0e2b-4f61-f32f-bebaff7ffed7"
   },
   "outputs": [
    {
     "data": {
      "text/plain": [
       "1200.0"
      ]
     },
     "execution_count": 11,
     "metadata": {},
     "output_type": "execute_result"
    }
   ],
   "source": [
    "# Present Value of the Loan amount:\n",
    "PV = 1000\n",
    "\n",
    "# Interest rate, i:\n",
    "i = 20 / 100\n",
    "\n",
    "# Term in years, n:\n",
    "n = 1\n",
    "\n",
    "#Calculate the Future Value, FV:\n",
    "PV*(1 + i)**n"
   ]
  },
  {
   "cell_type": "markdown",
   "metadata": {
    "colab_type": "text",
    "deletable": true,
    "editable": true,
    "id": "oCOUu8NtH2d0"
   },
   "source": [
    "So, if you decide to go ahead with the purchase, you'll need to pay an extra R200 to FedBank after 1 year."
   ]
  },
  {
   "cell_type": "markdown",
   "metadata": {
    "colab_type": "text",
    "deletable": true,
    "editable": true,
    "id": "dSvgcNKWIFtF"
   },
   "source": [
    "#### Exercise 1: Future Value Formula"
   ]
  },
  {
   "cell_type": "markdown",
   "metadata": {
    "colab_type": "text",
    "deletable": true,
    "editable": true,
    "id": "6cvcwqe2IF61"
   },
   "source": [
    "Write a function, `future_value`, that takes as an argument, a present value $PV$, interest rate $i$, and a term $n$, and return the future repayment value, $FV$ of that loan. "
   ]
  },
  {
   "cell_type": "code",
   "execution_count": 14,
   "metadata": {
    "colab": {
     "autoexec": {
      "startup": false,
      "wait_interval": 0
     }
    },
    "colab_type": "code",
    "collapsed": true,
    "deletable": true,
    "editable": true,
    "id": "x-srvXEP6P_J"
   },
   "outputs": [],
   "source": [
    "def future_value_of(PV, i, n):\n",
    "    # YOUR CODE HERE:\n",
    "    # FV = some formula\n",
    "    return FV"
   ]
  },
  {
   "cell_type": "code",
   "execution_count": 15,
   "metadata": {
    "colab": {
     "autoexec": {
      "startup": false,
      "wait_interval": 0
     },
     "base_uri": "https://localhost:8080/",
     "height": 34,
     "output_extras": [
      {}
     ]
    },
    "colab_type": "code",
    "collapsed": false,
    "deletable": true,
    "editable": true,
    "executionInfo": {
     "elapsed": 973,
     "status": "ok",
     "timestamp": 1520420961130,
     "user": {
      "displayName": "Rayno Mostert",
      "photoUrl": "https://lh3.googleusercontent.com/a/default-user=s128",
      "userId": "107056986412592388577"
     },
     "user_tz": -120
    },
    "id": "mxl7BsvhJbEE",
    "outputId": "bce15414-3f70-42c2-b06c-6c37f28a2318"
   },
   "outputs": [
    {
     "data": {
      "text/plain": [
       "2022.7788678539534"
      ]
     },
     "execution_count": 15,
     "metadata": {},
     "output_type": "execute_result"
    }
   ],
   "source": [
    "future_value_of(500, 0.15, 10)"
   ]
  },
  {
   "cell_type": "markdown",
   "metadata": {
    "colab_type": "text",
    "deletable": true,
    "editable": true,
    "id": "MF_CtJtfJNr6"
   },
   "source": [
    "Your code should give the following results:\n",
    "\n",
    "\n",
    "*   `future_value(100, 0.1, 20) = 672.7499949325611`\n",
    "*   `future_value(500, 0.15, 10) = 2022.7788678539534`\n",
    "\n"
   ]
  },
  {
   "cell_type": "markdown",
   "metadata": {
    "colab_type": "text",
    "deletable": true,
    "editable": true,
    "id": "c1bQ5m1IJ1pg"
   },
   "source": [
    "Make sure that both of the statements below return '`True`':"
   ]
  },
  {
   "cell_type": "code",
   "execution_count": null,
   "metadata": {
    "colab": {
     "autoexec": {
      "startup": false,
      "wait_interval": 0
     },
     "base_uri": "https://localhost:8080/",
     "height": 34,
     "output_extras": [
      {}
     ]
    },
    "colab_type": "code",
    "collapsed": false,
    "deletable": true,
    "editable": true,
    "executionInfo": {
     "elapsed": 1094,
     "status": "ok",
     "timestamp": 1520421065618,
     "user": {
      "displayName": "Rayno Mostert",
      "photoUrl": "https://lh3.googleusercontent.com/a/default-user=s128",
      "userId": "107056986412592388577"
     },
     "user_tz": -120
    },
    "id": "MpZF-q90JCX_",
    "outputId": "81099595-9f36-467f-d9db-8e1a18f14349"
   },
   "outputs": [
    {
     "data": {
      "text/plain": [
       "True"
      ]
     },
     "execution_count": 12,
     "metadata": {
      "tags": []
     },
     "output_type": "execute_result"
    }
   ],
   "source": [
    "future_value_of(100, 0.1, 20) == 672.7499949325611"
   ]
  },
  {
   "cell_type": "code",
   "execution_count": null,
   "metadata": {
    "colab": {
     "autoexec": {
      "startup": false,
      "wait_interval": 0
     },
     "base_uri": "https://localhost:8080/",
     "height": 34,
     "output_extras": [
      {}
     ]
    },
    "colab_type": "code",
    "collapsed": false,
    "deletable": true,
    "editable": true,
    "executionInfo": {
     "elapsed": 986,
     "status": "ok",
     "timestamp": 1520421068918,
     "user": {
      "displayName": "Rayno Mostert",
      "photoUrl": "https://lh3.googleusercontent.com/a/default-user=s128",
      "userId": "107056986412592388577"
     },
     "user_tz": -120
    },
    "id": "rDeJe1nNJ9MY",
    "outputId": "5168a1a5-a10d-4cf6-9331-e9fec0d36b45"
   },
   "outputs": [
    {
     "data": {
      "text/plain": [
       "True"
      ]
     },
     "execution_count": 14,
     "metadata": {
      "tags": []
     },
     "output_type": "execute_result"
    }
   ],
   "source": [
    "future_value_of(500, 0.15, 10) == 2022.7788678539534"
   ]
  },
  {
   "cell_type": "markdown",
   "metadata": {
    "deletable": true,
    "editable": true
   },
   "source": [
    "## Recursion"
   ]
  },
  {
   "cell_type": "markdown",
   "metadata": {
    "deletable": true,
    "editable": true
   },
   "source": [
    "![Penrose Stairs](https://upload.wikimedia.org/wikipedia/commons/thumb/3/34/Impossible_staircase.svg/372px-Impossible_staircase.svg.png)"
   ]
  },
  {
   "cell_type": "markdown",
   "metadata": {
    "deletable": true,
    "editable": true
   },
   "source": [
    "### Factorial\n",
    "\n",
    "$n$ $factorial$   (written as **$n!$**) is the number we get when we multiply every number from $1$ to $n$."
   ]
  },
  {
   "cell_type": "markdown",
   "metadata": {
    "deletable": true,
    "editable": true
   },
   "source": [
    "For example:\n",
    "\n",
    "$4! = 4 \\times 3 \\times 2 \\times 1 = 24$. <br>\n",
    "\n",
    "$10! = 10 \\times 9 \\times 8 \\times 7 \\times 6 \\times 5 \\times 4 \\times 3 \\times 2 \\times 1 = 3628800$."
   ]
  },
  {
   "cell_type": "markdown",
   "metadata": {
    "deletable": true,
    "editable": true
   },
   "source": [
    "Factorials are difficult to calculate for larger numbers.  \n",
    "\n",
    "How can we write a function `factorial(n)` that takes a number `n` and spits out $n factorial$?"
   ]
  },
  {
   "cell_type": "markdown",
   "metadata": {
    "deletable": true,
    "editable": true
   },
   "source": [
    "We could use a while loop, but how does a while loop work?"
   ]
  },
  {
   "cell_type": "markdown",
   "metadata": {
    "deletable": true,
    "editable": true
   },
   "source": [
    "#### While Loops"
   ]
  },
  {
   "cell_type": "markdown",
   "metadata": {
    "deletable": true,
    "editable": true
   },
   "source": [
    "While loops are very similar to **for loops**. The major change being that - instead of doing some action for every item in a list - a while loop keeps on doing stuff while some statement is **True**.\n",
    "\n",
    "The structure of a while loop is very similar to a for loop:"
   ]
  },
  {
   "cell_type": "markdown",
   "metadata": {
    "deletable": true,
    "editable": true
   },
   "source": [
    "![alt text](https://github.com/Explore-AI/Public-Data/blob/master/while%20loop%20structure.png?raw=true)"
   ]
  },
  {
   "cell_type": "markdown",
   "metadata": {
    "deletable": true,
    "editable": true
   },
   "source": [
    "Now, let's get back to using our while loop:"
   ]
  },
  {
   "cell_type": "code",
   "execution_count": 22,
   "metadata": {
    "collapsed": false,
    "deletable": true,
    "editable": true
   },
   "outputs": [],
   "source": [
    "def factorial(n):\n",
    "    result = 1\n",
    "    count = 2\n",
    "  \n",
    "    while count <= n:\n",
    "        result = result * count\n",
    "        count = count + 1\n",
    "    \n",
    "    return result"
   ]
  },
  {
   "cell_type": "code",
   "execution_count": 23,
   "metadata": {
    "collapsed": false,
    "deletable": true,
    "editable": true
   },
   "outputs": [
    {
     "data": {
      "text/plain": [
       "24"
      ]
     },
     "execution_count": 23,
     "metadata": {},
     "output_type": "execute_result"
    }
   ],
   "source": [
    "factorial(4)"
   ]
  },
  {
   "cell_type": "code",
   "execution_count": 24,
   "metadata": {
    "collapsed": false,
    "deletable": true,
    "editable": true
   },
   "outputs": [
    {
     "data": {
      "text/plain": [
       "3628800"
      ]
     },
     "execution_count": 24,
     "metadata": {},
     "output_type": "execute_result"
    }
   ],
   "source": [
    "factorial(10)"
   ]
  },
  {
   "cell_type": "markdown",
   "metadata": {
    "deletable": true,
    "editable": true
   },
   "source": [
    "But a while loop seems rather cluncky, don't you think?\n",
    "\n",
    "Theres another powerful technique used in Computer Science, known as **recursion**.\n",
    "\n",
    "Recursion is a way of programming where a function **calls itself**.  Think of it like [Inception](http://www.imdb.com/title/tt1375666/), but instead of a dream within a dream within a dream, recursion might be a function within a function within a function.  Something like that.\n",
    "\n",
    "***\n",
    "\n",
    "But first:  a little more about **factorials**.  \n",
    "\n",
    "So a $n! = n \\times (n - 1) \\times (n - 2) \\times \\dots \\times 2 \\times 1$\n",
    "\n",
    "Also notice that:\n",
    "$(n-1)! = (n - 1) \\times (n - 2) \\times (n - 3) \\times \\dots \\times 2 \\times 1$\n",
    "\n",
    "Hence:\n",
    "$n! = n \\times (n - 1)!$\n",
    "\n",
    "***\n",
    "\n",
    "In a recursive Python function, this would look like:"
   ]
  },
  {
   "cell_type": "code",
   "execution_count": 25,
   "metadata": {
    "collapsed": true,
    "deletable": true,
    "editable": true
   },
   "outputs": [],
   "source": [
    "def factorial(n):\n",
    "    if n == 1:\n",
    "        return n\n",
    "    else:\n",
    "        return n * factorial(n-1)  # <<-- Notice how the function does factorial(n-1) within factorial(n)!"
   ]
  },
  {
   "cell_type": "code",
   "execution_count": 26,
   "metadata": {
    "collapsed": false,
    "deletable": true,
    "editable": true
   },
   "outputs": [
    {
     "data": {
      "text/plain": [
       "120"
      ]
     },
     "execution_count": 26,
     "metadata": {},
     "output_type": "execute_result"
    }
   ],
   "source": [
    "factorial(5)"
   ]
  },
  {
   "cell_type": "markdown",
   "metadata": {
    "deletable": true,
    "editable": true
   },
   "source": [
    "Notice what the function is doing. It essentially runs a version of itself - `factorial(n-1)` right within itself (`factorial(n)`).\n",
    "\n",
    "Mind. Blown."
   ]
  },
  {
   "cell_type": "markdown",
   "metadata": {
    "deletable": true,
    "editable": true
   },
   "source": [
    "That is the end of this tutorial. You should have a basic understanding of how to write functions and use recursion within functions."
   ]
  }
 ],
 "metadata": {
  "colab": {
   "default_view": {},
   "name": "7 Functions in Python.ipynb",
   "provenance": [],
   "version": "0.3.2",
   "views": {}
  },
  "kernelspec": {
   "display_name": "Python 3",
   "language": "python",
   "name": "python3"
  },
  "language_info": {
   "codemirror_mode": {
    "name": "ipython",
    "version": 3
   },
   "file_extension": ".py",
   "mimetype": "text/x-python",
   "name": "python",
   "nbconvert_exporter": "python",
   "pygments_lexer": "ipython3",
   "version": "3.6.0"
  }
 },
 "nbformat": 4,
 "nbformat_minor": 2
}
